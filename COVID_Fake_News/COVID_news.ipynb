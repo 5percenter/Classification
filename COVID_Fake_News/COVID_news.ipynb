{
 "metadata": {
  "language_info": {
   "codemirror_mode": {
    "name": "ipython",
    "version": 3
   },
   "file_extension": ".py",
   "mimetype": "text/x-python",
   "name": "python",
   "nbconvert_exporter": "python",
   "pygments_lexer": "ipython3",
   "version": "3.7.4-final"
  },
  "orig_nbformat": 2,
  "kernelspec": {
   "name": "python3",
   "display_name": "Python 3",
   "language": "python"
  }
 },
 "nbformat": 4,
 "nbformat_minor": 2,
 "cells": [
  {
   "source": [
    "# COVID FAKE NEWS DETECTION WITH A LOGISTIC REGRESSION\n",
    "\n",
    "Importing necessary libraries:"
   ],
   "cell_type": "markdown",
   "metadata": {}
  },
  {
   "cell_type": "code",
   "execution_count": 279,
   "metadata": {},
   "outputs": [],
   "source": [
    "import pandas as pd \n",
    "import matplotlib.pyplot as plt \n",
    "import seaborn as sns\n",
    "import re\n",
    "from nltk.stem.snowball import SnowballStemmer\n",
    "from sklearn.feature_extraction.text import TfidfVectorizer\n",
    "from sklearn.model_selection import train_test_split\n",
    "from sklearn.linear_model import LogisticRegressionCV\n",
    "from sklearn.ensemble import RandomForestClassifier\n",
    "from sklearn.svm import SVC\n",
    "\n",
    "%matplotlib inline"
   ]
  },
  {
   "cell_type": "code",
   "execution_count": 199,
   "metadata": {},
   "outputs": [
    {
     "output_type": "execute_result",
     "data": {
      "text/plain": [
       "                                               title  \\\n",
       "0  Due to the recent outbreak for the Coronavirus...   \n",
       "1                                                NaN   \n",
       "2                                                NaN   \n",
       "3                                                NaN   \n",
       "4                                                NaN   \n",
       "\n",
       "                                                text  \\\n",
       "0  You just need to add water, and the drugs and ...   \n",
       "1  Hydroxychloroquine has been shown to have a 10...   \n",
       "2  Fact: Hydroxychloroquine has been shown to hav...   \n",
       "3  The Corona virus is a man made virus created i...   \n",
       "4  Doesn’t @BillGates finance research at the Wuh...   \n",
       "\n",
       "                      source label  \n",
       "0  coronavirusmedicalkit.com  Fake  \n",
       "1               RudyGiuliani  Fake  \n",
       "2                CharlieKirk  Fake  \n",
       "3    JoanneWrightForCongress  Fake  \n",
       "4    JoanneWrightForCongress  Fake  "
      ],
      "text/html": "<div>\n<style scoped>\n    .dataframe tbody tr th:only-of-type {\n        vertical-align: middle;\n    }\n\n    .dataframe tbody tr th {\n        vertical-align: top;\n    }\n\n    .dataframe thead th {\n        text-align: right;\n    }\n</style>\n<table border=\"1\" class=\"dataframe\">\n  <thead>\n    <tr style=\"text-align: right;\">\n      <th></th>\n      <th>title</th>\n      <th>text</th>\n      <th>source</th>\n      <th>label</th>\n    </tr>\n  </thead>\n  <tbody>\n    <tr>\n      <th>0</th>\n      <td>Due to the recent outbreak for the Coronavirus...</td>\n      <td>You just need to add water, and the drugs and ...</td>\n      <td>coronavirusmedicalkit.com</td>\n      <td>Fake</td>\n    </tr>\n    <tr>\n      <th>1</th>\n      <td>NaN</td>\n      <td>Hydroxychloroquine has been shown to have a 10...</td>\n      <td>RudyGiuliani</td>\n      <td>Fake</td>\n    </tr>\n    <tr>\n      <th>2</th>\n      <td>NaN</td>\n      <td>Fact: Hydroxychloroquine has been shown to hav...</td>\n      <td>CharlieKirk</td>\n      <td>Fake</td>\n    </tr>\n    <tr>\n      <th>3</th>\n      <td>NaN</td>\n      <td>The Corona virus is a man made virus created i...</td>\n      <td>JoanneWrightForCongress</td>\n      <td>Fake</td>\n    </tr>\n    <tr>\n      <th>4</th>\n      <td>NaN</td>\n      <td>Doesn’t @BillGates finance research at the Wuh...</td>\n      <td>JoanneWrightForCongress</td>\n      <td>Fake</td>\n    </tr>\n  </tbody>\n</table>\n</div>"
     },
     "metadata": {},
     "execution_count": 199
    }
   ],
   "source": [
    "link = '--------------'\n",
    "\n",
    "cnews = pd.read_csv(link, sep=',')\n",
    "\n",
    "cnews.head()"
   ]
  },
  {
   "cell_type": "code",
   "execution_count": 242,
   "metadata": {},
   "outputs": [
    {
     "output_type": "execute_result",
     "data": {
      "text/plain": [
       "                                                  title  \\\n",
       "0     Due to the recent outbreak for the Coronavirus...   \n",
       "1                                               Missing   \n",
       "2                                               Missing   \n",
       "3                                               Missing   \n",
       "4                                               Missing   \n",
       "...                                                 ...   \n",
       "1159   Could the Power of the Sun Slow the Coronavirus?   \n",
       "1160  Key evidence for coronavirus spread is flawed ...   \n",
       "1161  Summer Heat May Not Diminish Coronavirus Strength   \n",
       "1162               How Long Will a Vaccine Really Take?   \n",
       "1163  Why Funding the Covid-19 Response Could Be the...   \n",
       "\n",
       "                                                   text  \\\n",
       "0     You just need to add water, and the drugs and ...   \n",
       "1     Hydroxychloroquine has been shown to have a 10...   \n",
       "2     Fact: Hydroxychloroquine has been shown to hav...   \n",
       "3     The Corona virus is a man made virus created i...   \n",
       "4     Doesn’t @BillGates finance research at the Wuh...   \n",
       "...                                                 ...   \n",
       "1159  A study suggests that ultraviolet rays could s...   \n",
       "1160  Last week, a medical journal reported that a b...   \n",
       "1161  A new report, sent to the White House science ...   \n",
       "1162  A vaccine would be the ultimate weapon against...   \n",
       "1163  Developing and delivering coronavirus vaccines...   \n",
       "\n",
       "                         source label  fakes  number_of_news  \\\n",
       "0     coronavirusmedicalkit.com  FAKE      1               1   \n",
       "1                  RudyGiuliani  FAKE      1               1   \n",
       "2                   CharlieKirk  FAKE      1               1   \n",
       "3       JoanneWrightForCongress  FAKE      1               1   \n",
       "4       JoanneWrightForCongress  FAKE      1               1   \n",
       "...                         ...   ...    ...             ...   \n",
       "1159   https://www.nytimes.com/  TRUE      0               1   \n",
       "1160   https://www.nytimes.com/  TRUE      0               1   \n",
       "1161   https://www.nytimes.com/  TRUE      0               1   \n",
       "1162   https://www.nytimes.com/  TRUE      0               1   \n",
       "1163   https://www.nytimes.com/  TRUE      0               1   \n",
       "\n",
       "                                             title_text  \n",
       "0     due to the recent outbreak for the coronavirus...  \n",
       "1     missing hydroxychloroquine has been shown to h...  \n",
       "2     missing fact hydroxychloroquine has been shown...  \n",
       "3     missing the corona virus is a man made virus c...  \n",
       "4     missing doesnt billgates finance research at t...  \n",
       "...                                                 ...  \n",
       "1159  could the power of the sun slow the coronaviru...  \n",
       "1160  key evidence for coronavirus spread is flawed ...  \n",
       "1161  summer heat may not diminish coronavirus stren...  \n",
       "1162  how long will a vaccine really take a vaccine ...  \n",
       "1163  why funding the covid19 response could be the ...  \n",
       "\n",
       "[1159 rows x 7 columns]"
      ],
      "text/html": "<div>\n<style scoped>\n    .dataframe tbody tr th:only-of-type {\n        vertical-align: middle;\n    }\n\n    .dataframe tbody tr th {\n        vertical-align: top;\n    }\n\n    .dataframe thead th {\n        text-align: right;\n    }\n</style>\n<table border=\"1\" class=\"dataframe\">\n  <thead>\n    <tr style=\"text-align: right;\">\n      <th></th>\n      <th>title</th>\n      <th>text</th>\n      <th>source</th>\n      <th>label</th>\n      <th>fakes</th>\n      <th>number_of_news</th>\n      <th>title_text</th>\n    </tr>\n  </thead>\n  <tbody>\n    <tr>\n      <th>0</th>\n      <td>Due to the recent outbreak for the Coronavirus...</td>\n      <td>You just need to add water, and the drugs and ...</td>\n      <td>coronavirusmedicalkit.com</td>\n      <td>FAKE</td>\n      <td>1</td>\n      <td>1</td>\n      <td>due to the recent outbreak for the coronavirus...</td>\n    </tr>\n    <tr>\n      <th>1</th>\n      <td>Missing</td>\n      <td>Hydroxychloroquine has been shown to have a 10...</td>\n      <td>RudyGiuliani</td>\n      <td>FAKE</td>\n      <td>1</td>\n      <td>1</td>\n      <td>missing hydroxychloroquine has been shown to h...</td>\n    </tr>\n    <tr>\n      <th>2</th>\n      <td>Missing</td>\n      <td>Fact: Hydroxychloroquine has been shown to hav...</td>\n      <td>CharlieKirk</td>\n      <td>FAKE</td>\n      <td>1</td>\n      <td>1</td>\n      <td>missing fact hydroxychloroquine has been shown...</td>\n    </tr>\n    <tr>\n      <th>3</th>\n      <td>Missing</td>\n      <td>The Corona virus is a man made virus created i...</td>\n      <td>JoanneWrightForCongress</td>\n      <td>FAKE</td>\n      <td>1</td>\n      <td>1</td>\n      <td>missing the corona virus is a man made virus c...</td>\n    </tr>\n    <tr>\n      <th>4</th>\n      <td>Missing</td>\n      <td>Doesn’t @BillGates finance research at the Wuh...</td>\n      <td>JoanneWrightForCongress</td>\n      <td>FAKE</td>\n      <td>1</td>\n      <td>1</td>\n      <td>missing doesnt billgates finance research at t...</td>\n    </tr>\n    <tr>\n      <th>...</th>\n      <td>...</td>\n      <td>...</td>\n      <td>...</td>\n      <td>...</td>\n      <td>...</td>\n      <td>...</td>\n      <td>...</td>\n    </tr>\n    <tr>\n      <th>1159</th>\n      <td>Could the Power of the Sun Slow the Coronavirus?</td>\n      <td>A study suggests that ultraviolet rays could s...</td>\n      <td>https://www.nytimes.com/</td>\n      <td>TRUE</td>\n      <td>0</td>\n      <td>1</td>\n      <td>could the power of the sun slow the coronaviru...</td>\n    </tr>\n    <tr>\n      <th>1160</th>\n      <td>Key evidence for coronavirus spread is flawed ...</td>\n      <td>Last week, a medical journal reported that a b...</td>\n      <td>https://www.nytimes.com/</td>\n      <td>TRUE</td>\n      <td>0</td>\n      <td>1</td>\n      <td>key evidence for coronavirus spread is flawed ...</td>\n    </tr>\n    <tr>\n      <th>1161</th>\n      <td>Summer Heat May Not Diminish Coronavirus Strength</td>\n      <td>A new report, sent to the White House science ...</td>\n      <td>https://www.nytimes.com/</td>\n      <td>TRUE</td>\n      <td>0</td>\n      <td>1</td>\n      <td>summer heat may not diminish coronavirus stren...</td>\n    </tr>\n    <tr>\n      <th>1162</th>\n      <td>How Long Will a Vaccine Really Take?</td>\n      <td>A vaccine would be the ultimate weapon against...</td>\n      <td>https://www.nytimes.com/</td>\n      <td>TRUE</td>\n      <td>0</td>\n      <td>1</td>\n      <td>how long will a vaccine really take a vaccine ...</td>\n    </tr>\n    <tr>\n      <th>1163</th>\n      <td>Why Funding the Covid-19 Response Could Be the...</td>\n      <td>Developing and delivering coronavirus vaccines...</td>\n      <td>https://www.nytimes.com/</td>\n      <td>TRUE</td>\n      <td>0</td>\n      <td>1</td>\n      <td>why funding the covid19 response could be the ...</td>\n    </tr>\n  </tbody>\n</table>\n<p>1159 rows × 7 columns</p>\n</div>"
     },
     "metadata": {},
     "execution_count": 242
    }
   ],
   "source": [
    "cnews"
   ]
  },
  {
   "cell_type": "code",
   "execution_count": 201,
   "metadata": {},
   "outputs": [
    {
     "output_type": "stream",
     "name": "stdout",
     "text": [
      "<class 'pandas.core.frame.DataFrame'>\nRangeIndex: 1164 entries, 0 to 1163\nData columns (total 4 columns):\n #   Column  Non-Null Count  Dtype \n---  ------  --------------  ----- \n 0   title   1082 non-null   object\n 1   text    1154 non-null   object\n 2   source  1144 non-null   object\n 3   label   1159 non-null   object\ndtypes: object(4)\nmemory usage: 36.5+ KB\n"
     ]
    }
   ],
   "source": [
    "cnews.info()"
   ]
  },
  {
   "cell_type": "code",
   "execution_count": 203,
   "metadata": {},
   "outputs": [
    {
     "output_type": "execute_result",
     "data": {
      "text/plain": [
       "(1164, 4)"
      ]
     },
     "metadata": {},
     "execution_count": 203
    }
   ],
   "source": [
    "cnews.shape "
   ]
  },
  {
   "source": [
    "The dataset contains 1164 news about COVID virus that are taged as true or fake. The columns of teh dataset are the title of the news, the text, the source (which can be both a newspaper, a politician, website, etc) and the label, which is the target variable ('FAKE', 'TRUE'). First of all we are going to check if the labels are balanced and are only 'TRUE' or 'FALSE'. The next step will be dealing with Nan values"
   ],
   "cell_type": "markdown",
   "metadata": {}
  },
  {
   "cell_type": "code",
   "execution_count": 205,
   "metadata": {},
   "outputs": [
    {
     "output_type": "execute_result",
     "data": {
      "text/plain": [
       "TRUE    584\n",
       "FAKE    575\n",
       "Name: label, dtype: int64"
      ]
     },
     "metadata": {},
     "execution_count": 205
    }
   ],
   "source": [
    "cnews.label.value_counts()"
   ]
  },
  {
   "cell_type": "code",
   "execution_count": 207,
   "metadata": {},
   "outputs": [
    {
     "output_type": "execute_result",
     "data": {
      "text/plain": [
       "Text(0, 0.5, 'Count')"
      ]
     },
     "metadata": {},
     "execution_count": 207
    },
    {
     "output_type": "display_data",
     "data": {
      "text/plain": "<Figure size 792x576 with 1 Axes>",
      "image/svg+xml": "<?xml version=\"1.0\" encoding=\"utf-8\" standalone=\"no\"?>\n<!DOCTYPE svg PUBLIC \"-//W3C//DTD SVG 1.1//EN\"\n  \"http://www.w3.org/Graphics/SVG/1.1/DTD/svg11.dtd\">\n<!-- Created with matplotlib (https://matplotlib.org/) -->\n<svg height=\"502.424844pt\" version=\"1.1\" viewBox=\"0 0 671.836875 502.424844\" width=\"671.836875pt\" xmlns=\"http://www.w3.org/2000/svg\" xmlns:xlink=\"http://www.w3.org/1999/xlink\">\n <defs>\n  <style type=\"text/css\">\n*{stroke-linecap:butt;stroke-linejoin:round;}\n  </style>\n </defs>\n <g id=\"figure_1\">\n  <g id=\"patch_1\">\n   <path d=\"M 0 502.424844 \nL 671.836875 502.424844 \nL 671.836875 0 \nL 0 0 \nz\n\" style=\"fill:none;\"/>\n  </g>\n  <g id=\"axes_1\">\n   <g id=\"patch_2\">\n    <path d=\"M 50.836875 460.997344 \nL 664.636875 460.997344 \nL 664.636875 26.117344 \nL 50.836875 26.117344 \nz\n\" style=\"fill:#ffffff;\"/>\n   </g>\n   <g id=\"patch_3\">\n    <path clip-path=\"url(#p2b9a85df24)\" d=\"M 81.526875 460.997344 \nL 327.046875 460.997344 \nL 327.046875 53.208694 \nL 81.526875 53.208694 \nz\n\" style=\"fill:#3274a1;\"/>\n   </g>\n   <g id=\"patch_4\">\n    <path clip-path=\"url(#p2b9a85df24)\" d=\"M 388.426875 460.997344 \nL 633.946875 460.997344 \nL 633.946875 46.825915 \nL 388.426875 46.825915 \nz\n\" style=\"fill:#e1812c;\"/>\n   </g>\n   <g id=\"matplotlib.axis_1\">\n    <g id=\"xtick_1\">\n     <g id=\"line2d_1\">\n      <defs>\n       <path d=\"M 0 0 \nL 0 3.5 \n\" id=\"m558bfa17dc\" style=\"stroke:#000000;stroke-width:0.8;\"/>\n      </defs>\n      <g>\n       <use style=\"stroke:#000000;stroke-width:0.8;\" x=\"204.286875\" xlink:href=\"#m558bfa17dc\" y=\"460.997344\"/>\n      </g>\n     </g>\n     <g id=\"text_1\">\n      <!-- FAKE -->\n      <defs>\n       <path d=\"M 9.8125 72.90625 \nL 51.703125 72.90625 \nL 51.703125 64.59375 \nL 19.671875 64.59375 \nL 19.671875 43.109375 \nL 48.578125 43.109375 \nL 48.578125 34.8125 \nL 19.671875 34.8125 \nL 19.671875 0 \nL 9.8125 0 \nz\n\" id=\"DejaVuSans-70\"/>\n       <path d=\"M 34.1875 63.1875 \nL 20.796875 26.90625 \nL 47.609375 26.90625 \nz\nM 28.609375 72.90625 \nL 39.796875 72.90625 \nL 67.578125 0 \nL 57.328125 0 \nL 50.6875 18.703125 \nL 17.828125 18.703125 \nL 11.1875 0 \nL 0.78125 0 \nz\n\" id=\"DejaVuSans-65\"/>\n       <path d=\"M 9.8125 72.90625 \nL 19.671875 72.90625 \nL 19.671875 42.09375 \nL 52.390625 72.90625 \nL 65.09375 72.90625 \nL 28.90625 38.921875 \nL 67.671875 0 \nL 54.6875 0 \nL 19.671875 35.109375 \nL 19.671875 0 \nL 9.8125 0 \nz\n\" id=\"DejaVuSans-75\"/>\n       <path d=\"M 9.8125 72.90625 \nL 55.90625 72.90625 \nL 55.90625 64.59375 \nL 19.671875 64.59375 \nL 19.671875 43.015625 \nL 54.390625 43.015625 \nL 54.390625 34.71875 \nL 19.671875 34.71875 \nL 19.671875 8.296875 \nL 56.78125 8.296875 \nL 56.78125 0 \nL 9.8125 0 \nz\n\" id=\"DejaVuSans-69\"/>\n      </defs>\n      <g transform=\"translate(192.00875 475.595781)scale(0.1 -0.1)\">\n       <use xlink:href=\"#DejaVuSans-70\"/>\n       <use x=\"48.394531\" xlink:href=\"#DejaVuSans-65\"/>\n       <use x=\"116.802734\" xlink:href=\"#DejaVuSans-75\"/>\n       <use x=\"182.378906\" xlink:href=\"#DejaVuSans-69\"/>\n      </g>\n     </g>\n    </g>\n    <g id=\"xtick_2\">\n     <g id=\"line2d_2\">\n      <g>\n       <use style=\"stroke:#000000;stroke-width:0.8;\" x=\"511.186875\" xlink:href=\"#m558bfa17dc\" y=\"460.997344\"/>\n      </g>\n     </g>\n     <g id=\"text_2\">\n      <!-- TRUE -->\n      <defs>\n       <path d=\"M -0.296875 72.90625 \nL 61.375 72.90625 \nL 61.375 64.59375 \nL 35.5 64.59375 \nL 35.5 0 \nL 25.59375 0 \nL 25.59375 64.59375 \nL -0.296875 64.59375 \nz\n\" id=\"DejaVuSans-84\"/>\n       <path d=\"M 44.390625 34.1875 \nQ 47.5625 33.109375 50.5625 29.59375 \nQ 53.5625 26.078125 56.59375 19.921875 \nL 66.609375 0 \nL 56 0 \nL 46.6875 18.703125 \nQ 43.0625 26.03125 39.671875 28.421875 \nQ 36.28125 30.8125 30.421875 30.8125 \nL 19.671875 30.8125 \nL 19.671875 0 \nL 9.8125 0 \nL 9.8125 72.90625 \nL 32.078125 72.90625 \nQ 44.578125 72.90625 50.734375 67.671875 \nQ 56.890625 62.453125 56.890625 51.90625 \nQ 56.890625 45.015625 53.6875 40.46875 \nQ 50.484375 35.9375 44.390625 34.1875 \nz\nM 19.671875 64.796875 \nL 19.671875 38.921875 \nL 32.078125 38.921875 \nQ 39.203125 38.921875 42.84375 42.21875 \nQ 46.484375 45.515625 46.484375 51.90625 \nQ 46.484375 58.296875 42.84375 61.546875 \nQ 39.203125 64.796875 32.078125 64.796875 \nz\n\" id=\"DejaVuSans-82\"/>\n       <path d=\"M 8.6875 72.90625 \nL 18.609375 72.90625 \nL 18.609375 28.609375 \nQ 18.609375 16.890625 22.84375 11.734375 \nQ 27.09375 6.59375 36.625 6.59375 \nQ 46.09375 6.59375 50.34375 11.734375 \nQ 54.59375 16.890625 54.59375 28.609375 \nL 54.59375 72.90625 \nL 64.5 72.90625 \nL 64.5 27.390625 \nQ 64.5 13.140625 57.4375 5.859375 \nQ 50.390625 -1.421875 36.625 -1.421875 \nQ 22.796875 -1.421875 15.734375 5.859375 \nQ 8.6875 13.140625 8.6875 27.390625 \nz\n\" id=\"DejaVuSans-85\"/>\n      </defs>\n      <g transform=\"translate(497.84 475.595781)scale(0.1 -0.1)\">\n       <use xlink:href=\"#DejaVuSans-84\"/>\n       <use x=\"61.083984\" xlink:href=\"#DejaVuSans-82\"/>\n       <use x=\"130.566406\" xlink:href=\"#DejaVuSans-85\"/>\n       <use x=\"203.759766\" xlink:href=\"#DejaVuSans-69\"/>\n      </g>\n     </g>\n    </g>\n    <g id=\"text_3\">\n     <!-- Label -->\n     <defs>\n      <path d=\"M 9.8125 72.90625 \nL 19.671875 72.90625 \nL 19.671875 8.296875 \nL 55.171875 8.296875 \nL 55.171875 0 \nL 9.8125 0 \nz\n\" id=\"DejaVuSans-76\"/>\n      <path d=\"M 34.28125 27.484375 \nQ 23.390625 27.484375 19.1875 25 \nQ 14.984375 22.515625 14.984375 16.5 \nQ 14.984375 11.71875 18.140625 8.90625 \nQ 21.296875 6.109375 26.703125 6.109375 \nQ 34.1875 6.109375 38.703125 11.40625 \nQ 43.21875 16.703125 43.21875 25.484375 \nL 43.21875 27.484375 \nz\nM 52.203125 31.203125 \nL 52.203125 0 \nL 43.21875 0 \nL 43.21875 8.296875 \nQ 40.140625 3.328125 35.546875 0.953125 \nQ 30.953125 -1.421875 24.3125 -1.421875 \nQ 15.921875 -1.421875 10.953125 3.296875 \nQ 6 8.015625 6 15.921875 \nQ 6 25.140625 12.171875 29.828125 \nQ 18.359375 34.515625 30.609375 34.515625 \nL 43.21875 34.515625 \nL 43.21875 35.40625 \nQ 43.21875 41.609375 39.140625 45 \nQ 35.0625 48.390625 27.6875 48.390625 \nQ 23 48.390625 18.546875 47.265625 \nQ 14.109375 46.140625 10.015625 43.890625 \nL 10.015625 52.203125 \nQ 14.9375 54.109375 19.578125 55.046875 \nQ 24.21875 56 28.609375 56 \nQ 40.484375 56 46.34375 49.84375 \nQ 52.203125 43.703125 52.203125 31.203125 \nz\n\" id=\"DejaVuSans-97\"/>\n      <path d=\"M 48.6875 27.296875 \nQ 48.6875 37.203125 44.609375 42.84375 \nQ 40.53125 48.484375 33.40625 48.484375 \nQ 26.265625 48.484375 22.1875 42.84375 \nQ 18.109375 37.203125 18.109375 27.296875 \nQ 18.109375 17.390625 22.1875 11.75 \nQ 26.265625 6.109375 33.40625 6.109375 \nQ 40.53125 6.109375 44.609375 11.75 \nQ 48.6875 17.390625 48.6875 27.296875 \nz\nM 18.109375 46.390625 \nQ 20.953125 51.265625 25.265625 53.625 \nQ 29.59375 56 35.59375 56 \nQ 45.5625 56 51.78125 48.09375 \nQ 58.015625 40.1875 58.015625 27.296875 \nQ 58.015625 14.40625 51.78125 6.484375 \nQ 45.5625 -1.421875 35.59375 -1.421875 \nQ 29.59375 -1.421875 25.265625 0.953125 \nQ 20.953125 3.328125 18.109375 8.203125 \nL 18.109375 0 \nL 9.078125 0 \nL 9.078125 75.984375 \nL 18.109375 75.984375 \nz\n\" id=\"DejaVuSans-98\"/>\n      <path d=\"M 56.203125 29.59375 \nL 56.203125 25.203125 \nL 14.890625 25.203125 \nQ 15.484375 15.921875 20.484375 11.0625 \nQ 25.484375 6.203125 34.421875 6.203125 \nQ 39.59375 6.203125 44.453125 7.46875 \nQ 49.3125 8.734375 54.109375 11.28125 \nL 54.109375 2.78125 \nQ 49.265625 0.734375 44.1875 -0.34375 \nQ 39.109375 -1.421875 33.890625 -1.421875 \nQ 20.796875 -1.421875 13.15625 6.1875 \nQ 5.515625 13.8125 5.515625 26.8125 \nQ 5.515625 40.234375 12.765625 48.109375 \nQ 20.015625 56 32.328125 56 \nQ 43.359375 56 49.78125 48.890625 \nQ 56.203125 41.796875 56.203125 29.59375 \nz\nM 47.21875 32.234375 \nQ 47.125 39.59375 43.09375 43.984375 \nQ 39.0625 48.390625 32.421875 48.390625 \nQ 24.90625 48.390625 20.390625 44.140625 \nQ 15.875 39.890625 15.1875 32.171875 \nz\n\" id=\"DejaVuSans-101\"/>\n      <path d=\"M 9.421875 75.984375 \nL 18.40625 75.984375 \nL 18.40625 0 \nL 9.421875 0 \nz\n\" id=\"DejaVuSans-108\"/>\n     </defs>\n     <g transform=\"translate(338.851094 492.313281)scale(0.14 -0.14)\">\n      <use xlink:href=\"#DejaVuSans-76\"/>\n      <use x=\"55.712891\" xlink:href=\"#DejaVuSans-97\"/>\n      <use x=\"116.992188\" xlink:href=\"#DejaVuSans-98\"/>\n      <use x=\"180.46875\" xlink:href=\"#DejaVuSans-101\"/>\n      <use x=\"241.992188\" xlink:href=\"#DejaVuSans-108\"/>\n     </g>\n    </g>\n   </g>\n   <g id=\"matplotlib.axis_2\">\n    <g id=\"ytick_1\">\n     <g id=\"line2d_3\">\n      <path clip-path=\"url(#p2b9a85df24)\" d=\"M 50.836875 460.997344 \nL 664.636875 460.997344 \n\" style=\"fill:none;stroke:#b0b0b0;stroke-linecap:square;stroke-width:0.8;\"/>\n     </g>\n     <g id=\"line2d_4\">\n      <defs>\n       <path d=\"M 0 0 \nL -3.5 0 \n\" id=\"m13238f9f02\" style=\"stroke:#000000;stroke-width:0.8;\"/>\n      </defs>\n      <g>\n       <use style=\"stroke:#000000;stroke-width:0.8;\" x=\"50.836875\" xlink:href=\"#m13238f9f02\" y=\"460.997344\"/>\n      </g>\n     </g>\n     <g id=\"text_4\">\n      <!-- 0 -->\n      <defs>\n       <path d=\"M 31.78125 66.40625 \nQ 24.171875 66.40625 20.328125 58.90625 \nQ 16.5 51.421875 16.5 36.375 \nQ 16.5 21.390625 20.328125 13.890625 \nQ 24.171875 6.390625 31.78125 6.390625 \nQ 39.453125 6.390625 43.28125 13.890625 \nQ 47.125 21.390625 47.125 36.375 \nQ 47.125 51.421875 43.28125 58.90625 \nQ 39.453125 66.40625 31.78125 66.40625 \nz\nM 31.78125 74.21875 \nQ 44.046875 74.21875 50.515625 64.515625 \nQ 56.984375 54.828125 56.984375 36.375 \nQ 56.984375 17.96875 50.515625 8.265625 \nQ 44.046875 -1.421875 31.78125 -1.421875 \nQ 19.53125 -1.421875 13.0625 8.265625 \nQ 6.59375 17.96875 6.59375 36.375 \nQ 6.59375 54.828125 13.0625 64.515625 \nQ 19.53125 74.21875 31.78125 74.21875 \nz\n\" id=\"DejaVuSans-48\"/>\n      </defs>\n      <g transform=\"translate(37.474375 464.796562)scale(0.1 -0.1)\">\n       <use xlink:href=\"#DejaVuSans-48\"/>\n      </g>\n     </g>\n    </g>\n    <g id=\"ytick_2\">\n     <g id=\"line2d_5\">\n      <path clip-path=\"url(#p2b9a85df24)\" d=\"M 50.836875 390.077579 \nL 664.636875 390.077579 \n\" style=\"fill:none;stroke:#b0b0b0;stroke-linecap:square;stroke-width:0.8;\"/>\n     </g>\n     <g id=\"line2d_6\">\n      <g>\n       <use style=\"stroke:#000000;stroke-width:0.8;\" x=\"50.836875\" xlink:href=\"#m13238f9f02\" y=\"390.077579\"/>\n      </g>\n     </g>\n     <g id=\"text_5\">\n      <!-- 100 -->\n      <defs>\n       <path d=\"M 12.40625 8.296875 \nL 28.515625 8.296875 \nL 28.515625 63.921875 \nL 10.984375 60.40625 \nL 10.984375 69.390625 \nL 28.421875 72.90625 \nL 38.28125 72.90625 \nL 38.28125 8.296875 \nL 54.390625 8.296875 \nL 54.390625 0 \nL 12.40625 0 \nz\n\" id=\"DejaVuSans-49\"/>\n      </defs>\n      <g transform=\"translate(24.749375 393.876797)scale(0.1 -0.1)\">\n       <use xlink:href=\"#DejaVuSans-49\"/>\n       <use x=\"63.623047\" xlink:href=\"#DejaVuSans-48\"/>\n       <use x=\"127.246094\" xlink:href=\"#DejaVuSans-48\"/>\n      </g>\n     </g>\n    </g>\n    <g id=\"ytick_3\">\n     <g id=\"line2d_7\">\n      <path clip-path=\"url(#p2b9a85df24)\" d=\"M 50.836875 319.157813 \nL 664.636875 319.157813 \n\" style=\"fill:none;stroke:#b0b0b0;stroke-linecap:square;stroke-width:0.8;\"/>\n     </g>\n     <g id=\"line2d_8\">\n      <g>\n       <use style=\"stroke:#000000;stroke-width:0.8;\" x=\"50.836875\" xlink:href=\"#m13238f9f02\" y=\"319.157813\"/>\n      </g>\n     </g>\n     <g id=\"text_6\">\n      <!-- 200 -->\n      <defs>\n       <path d=\"M 19.1875 8.296875 \nL 53.609375 8.296875 \nL 53.609375 0 \nL 7.328125 0 \nL 7.328125 8.296875 \nQ 12.9375 14.109375 22.625 23.890625 \nQ 32.328125 33.6875 34.8125 36.53125 \nQ 39.546875 41.84375 41.421875 45.53125 \nQ 43.3125 49.21875 43.3125 52.78125 \nQ 43.3125 58.59375 39.234375 62.25 \nQ 35.15625 65.921875 28.609375 65.921875 \nQ 23.96875 65.921875 18.8125 64.3125 \nQ 13.671875 62.703125 7.8125 59.421875 \nL 7.8125 69.390625 \nQ 13.765625 71.78125 18.9375 73 \nQ 24.125 74.21875 28.421875 74.21875 \nQ 39.75 74.21875 46.484375 68.546875 \nQ 53.21875 62.890625 53.21875 53.421875 \nQ 53.21875 48.921875 51.53125 44.890625 \nQ 49.859375 40.875 45.40625 35.40625 \nQ 44.1875 33.984375 37.640625 27.21875 \nQ 31.109375 20.453125 19.1875 8.296875 \nz\n\" id=\"DejaVuSans-50\"/>\n      </defs>\n      <g transform=\"translate(24.749375 322.957032)scale(0.1 -0.1)\">\n       <use xlink:href=\"#DejaVuSans-50\"/>\n       <use x=\"63.623047\" xlink:href=\"#DejaVuSans-48\"/>\n       <use x=\"127.246094\" xlink:href=\"#DejaVuSans-48\"/>\n      </g>\n     </g>\n    </g>\n    <g id=\"ytick_4\">\n     <g id=\"line2d_9\">\n      <path clip-path=\"url(#p2b9a85df24)\" d=\"M 50.836875 248.238048 \nL 664.636875 248.238048 \n\" style=\"fill:none;stroke:#b0b0b0;stroke-linecap:square;stroke-width:0.8;\"/>\n     </g>\n     <g id=\"line2d_10\">\n      <g>\n       <use style=\"stroke:#000000;stroke-width:0.8;\" x=\"50.836875\" xlink:href=\"#m13238f9f02\" y=\"248.238048\"/>\n      </g>\n     </g>\n     <g id=\"text_7\">\n      <!-- 300 -->\n      <defs>\n       <path d=\"M 40.578125 39.3125 \nQ 47.65625 37.796875 51.625 33 \nQ 55.609375 28.21875 55.609375 21.1875 \nQ 55.609375 10.40625 48.1875 4.484375 \nQ 40.765625 -1.421875 27.09375 -1.421875 \nQ 22.515625 -1.421875 17.65625 -0.515625 \nQ 12.796875 0.390625 7.625 2.203125 \nL 7.625 11.71875 \nQ 11.71875 9.328125 16.59375 8.109375 \nQ 21.484375 6.890625 26.8125 6.890625 \nQ 36.078125 6.890625 40.9375 10.546875 \nQ 45.796875 14.203125 45.796875 21.1875 \nQ 45.796875 27.640625 41.28125 31.265625 \nQ 36.765625 34.90625 28.71875 34.90625 \nL 20.21875 34.90625 \nL 20.21875 43.015625 \nL 29.109375 43.015625 \nQ 36.375 43.015625 40.234375 45.921875 \nQ 44.09375 48.828125 44.09375 54.296875 \nQ 44.09375 59.90625 40.109375 62.90625 \nQ 36.140625 65.921875 28.71875 65.921875 \nQ 24.65625 65.921875 20.015625 65.03125 \nQ 15.375 64.15625 9.8125 62.3125 \nL 9.8125 71.09375 \nQ 15.4375 72.65625 20.34375 73.4375 \nQ 25.25 74.21875 29.59375 74.21875 \nQ 40.828125 74.21875 47.359375 69.109375 \nQ 53.90625 64.015625 53.90625 55.328125 \nQ 53.90625 49.265625 50.4375 45.09375 \nQ 46.96875 40.921875 40.578125 39.3125 \nz\n\" id=\"DejaVuSans-51\"/>\n      </defs>\n      <g transform=\"translate(24.749375 252.037267)scale(0.1 -0.1)\">\n       <use xlink:href=\"#DejaVuSans-51\"/>\n       <use x=\"63.623047\" xlink:href=\"#DejaVuSans-48\"/>\n       <use x=\"127.246094\" xlink:href=\"#DejaVuSans-48\"/>\n      </g>\n     </g>\n    </g>\n    <g id=\"ytick_5\">\n     <g id=\"line2d_11\">\n      <path clip-path=\"url(#p2b9a85df24)\" d=\"M 50.836875 177.318283 \nL 664.636875 177.318283 \n\" style=\"fill:none;stroke:#b0b0b0;stroke-linecap:square;stroke-width:0.8;\"/>\n     </g>\n     <g id=\"line2d_12\">\n      <g>\n       <use style=\"stroke:#000000;stroke-width:0.8;\" x=\"50.836875\" xlink:href=\"#m13238f9f02\" y=\"177.318283\"/>\n      </g>\n     </g>\n     <g id=\"text_8\">\n      <!-- 400 -->\n      <defs>\n       <path d=\"M 37.796875 64.3125 \nL 12.890625 25.390625 \nL 37.796875 25.390625 \nz\nM 35.203125 72.90625 \nL 47.609375 72.90625 \nL 47.609375 25.390625 \nL 58.015625 25.390625 \nL 58.015625 17.1875 \nL 47.609375 17.1875 \nL 47.609375 0 \nL 37.796875 0 \nL 37.796875 17.1875 \nL 4.890625 17.1875 \nL 4.890625 26.703125 \nz\n\" id=\"DejaVuSans-52\"/>\n      </defs>\n      <g transform=\"translate(24.749375 181.117502)scale(0.1 -0.1)\">\n       <use xlink:href=\"#DejaVuSans-52\"/>\n       <use x=\"63.623047\" xlink:href=\"#DejaVuSans-48\"/>\n       <use x=\"127.246094\" xlink:href=\"#DejaVuSans-48\"/>\n      </g>\n     </g>\n    </g>\n    <g id=\"ytick_6\">\n     <g id=\"line2d_13\">\n      <path clip-path=\"url(#p2b9a85df24)\" d=\"M 50.836875 106.398518 \nL 664.636875 106.398518 \n\" style=\"fill:none;stroke:#b0b0b0;stroke-linecap:square;stroke-width:0.8;\"/>\n     </g>\n     <g id=\"line2d_14\">\n      <g>\n       <use style=\"stroke:#000000;stroke-width:0.8;\" x=\"50.836875\" xlink:href=\"#m13238f9f02\" y=\"106.398518\"/>\n      </g>\n     </g>\n     <g id=\"text_9\">\n      <!-- 500 -->\n      <defs>\n       <path d=\"M 10.796875 72.90625 \nL 49.515625 72.90625 \nL 49.515625 64.59375 \nL 19.828125 64.59375 \nL 19.828125 46.734375 \nQ 21.96875 47.46875 24.109375 47.828125 \nQ 26.265625 48.1875 28.421875 48.1875 \nQ 40.625 48.1875 47.75 41.5 \nQ 54.890625 34.8125 54.890625 23.390625 \nQ 54.890625 11.625 47.5625 5.09375 \nQ 40.234375 -1.421875 26.90625 -1.421875 \nQ 22.3125 -1.421875 17.546875 -0.640625 \nQ 12.796875 0.140625 7.71875 1.703125 \nL 7.71875 11.625 \nQ 12.109375 9.234375 16.796875 8.0625 \nQ 21.484375 6.890625 26.703125 6.890625 \nQ 35.15625 6.890625 40.078125 11.328125 \nQ 45.015625 15.765625 45.015625 23.390625 \nQ 45.015625 31 40.078125 35.4375 \nQ 35.15625 39.890625 26.703125 39.890625 \nQ 22.75 39.890625 18.8125 39.015625 \nQ 14.890625 38.140625 10.796875 36.28125 \nz\n\" id=\"DejaVuSans-53\"/>\n      </defs>\n      <g transform=\"translate(24.749375 110.197737)scale(0.1 -0.1)\">\n       <use xlink:href=\"#DejaVuSans-53\"/>\n       <use x=\"63.623047\" xlink:href=\"#DejaVuSans-48\"/>\n       <use x=\"127.246094\" xlink:href=\"#DejaVuSans-48\"/>\n      </g>\n     </g>\n    </g>\n    <g id=\"ytick_7\">\n     <g id=\"line2d_15\">\n      <path clip-path=\"url(#p2b9a85df24)\" d=\"M 50.836875 35.478753 \nL 664.636875 35.478753 \n\" style=\"fill:none;stroke:#b0b0b0;stroke-linecap:square;stroke-width:0.8;\"/>\n     </g>\n     <g id=\"line2d_16\">\n      <g>\n       <use style=\"stroke:#000000;stroke-width:0.8;\" x=\"50.836875\" xlink:href=\"#m13238f9f02\" y=\"35.478753\"/>\n      </g>\n     </g>\n     <g id=\"text_10\">\n      <!-- 600 -->\n      <defs>\n       <path d=\"M 33.015625 40.375 \nQ 26.375 40.375 22.484375 35.828125 \nQ 18.609375 31.296875 18.609375 23.390625 \nQ 18.609375 15.53125 22.484375 10.953125 \nQ 26.375 6.390625 33.015625 6.390625 \nQ 39.65625 6.390625 43.53125 10.953125 \nQ 47.40625 15.53125 47.40625 23.390625 \nQ 47.40625 31.296875 43.53125 35.828125 \nQ 39.65625 40.375 33.015625 40.375 \nz\nM 52.59375 71.296875 \nL 52.59375 62.3125 \nQ 48.875 64.0625 45.09375 64.984375 \nQ 41.3125 65.921875 37.59375 65.921875 \nQ 27.828125 65.921875 22.671875 59.328125 \nQ 17.53125 52.734375 16.796875 39.40625 \nQ 19.671875 43.65625 24.015625 45.921875 \nQ 28.375 48.1875 33.59375 48.1875 \nQ 44.578125 48.1875 50.953125 41.515625 \nQ 57.328125 34.859375 57.328125 23.390625 \nQ 57.328125 12.15625 50.6875 5.359375 \nQ 44.046875 -1.421875 33.015625 -1.421875 \nQ 20.359375 -1.421875 13.671875 8.265625 \nQ 6.984375 17.96875 6.984375 36.375 \nQ 6.984375 53.65625 15.1875 63.9375 \nQ 23.390625 74.21875 37.203125 74.21875 \nQ 40.921875 74.21875 44.703125 73.484375 \nQ 48.484375 72.75 52.59375 71.296875 \nz\n\" id=\"DejaVuSans-54\"/>\n      </defs>\n      <g transform=\"translate(24.749375 39.277972)scale(0.1 -0.1)\">\n       <use xlink:href=\"#DejaVuSans-54\"/>\n       <use x=\"63.623047\" xlink:href=\"#DejaVuSans-48\"/>\n       <use x=\"127.246094\" xlink:href=\"#DejaVuSans-48\"/>\n      </g>\n     </g>\n    </g>\n    <g id=\"text_11\">\n     <!-- Count -->\n     <defs>\n      <path d=\"M 64.40625 67.28125 \nL 64.40625 56.890625 \nQ 59.421875 61.53125 53.78125 63.8125 \nQ 48.140625 66.109375 41.796875 66.109375 \nQ 29.296875 66.109375 22.65625 58.46875 \nQ 16.015625 50.828125 16.015625 36.375 \nQ 16.015625 21.96875 22.65625 14.328125 \nQ 29.296875 6.6875 41.796875 6.6875 \nQ 48.140625 6.6875 53.78125 8.984375 \nQ 59.421875 11.28125 64.40625 15.921875 \nL 64.40625 5.609375 \nQ 59.234375 2.09375 53.4375 0.328125 \nQ 47.65625 -1.421875 41.21875 -1.421875 \nQ 24.65625 -1.421875 15.125 8.703125 \nQ 5.609375 18.84375 5.609375 36.375 \nQ 5.609375 53.953125 15.125 64.078125 \nQ 24.65625 74.21875 41.21875 74.21875 \nQ 47.75 74.21875 53.53125 72.484375 \nQ 59.328125 70.75 64.40625 67.28125 \nz\n\" id=\"DejaVuSans-67\"/>\n      <path d=\"M 30.609375 48.390625 \nQ 23.390625 48.390625 19.1875 42.75 \nQ 14.984375 37.109375 14.984375 27.296875 \nQ 14.984375 17.484375 19.15625 11.84375 \nQ 23.34375 6.203125 30.609375 6.203125 \nQ 37.796875 6.203125 41.984375 11.859375 \nQ 46.1875 17.53125 46.1875 27.296875 \nQ 46.1875 37.015625 41.984375 42.703125 \nQ 37.796875 48.390625 30.609375 48.390625 \nz\nM 30.609375 56 \nQ 42.328125 56 49.015625 48.375 \nQ 55.71875 40.765625 55.71875 27.296875 \nQ 55.71875 13.875 49.015625 6.21875 \nQ 42.328125 -1.421875 30.609375 -1.421875 \nQ 18.84375 -1.421875 12.171875 6.21875 \nQ 5.515625 13.875 5.515625 27.296875 \nQ 5.515625 40.765625 12.171875 48.375 \nQ 18.84375 56 30.609375 56 \nz\n\" id=\"DejaVuSans-111\"/>\n      <path d=\"M 8.5 21.578125 \nL 8.5 54.6875 \nL 17.484375 54.6875 \nL 17.484375 21.921875 \nQ 17.484375 14.15625 20.5 10.265625 \nQ 23.53125 6.390625 29.59375 6.390625 \nQ 36.859375 6.390625 41.078125 11.03125 \nQ 45.3125 15.671875 45.3125 23.6875 \nL 45.3125 54.6875 \nL 54.296875 54.6875 \nL 54.296875 0 \nL 45.3125 0 \nL 45.3125 8.40625 \nQ 42.046875 3.421875 37.71875 1 \nQ 33.40625 -1.421875 27.6875 -1.421875 \nQ 18.265625 -1.421875 13.375 4.4375 \nQ 8.5 10.296875 8.5 21.578125 \nz\nM 31.109375 56 \nz\n\" id=\"DejaVuSans-117\"/>\n      <path d=\"M 54.890625 33.015625 \nL 54.890625 0 \nL 45.90625 0 \nL 45.90625 32.71875 \nQ 45.90625 40.484375 42.875 44.328125 \nQ 39.84375 48.1875 33.796875 48.1875 \nQ 26.515625 48.1875 22.3125 43.546875 \nQ 18.109375 38.921875 18.109375 30.90625 \nL 18.109375 0 \nL 9.078125 0 \nL 9.078125 54.6875 \nL 18.109375 54.6875 \nL 18.109375 46.1875 \nQ 21.34375 51.125 25.703125 53.5625 \nQ 30.078125 56 35.796875 56 \nQ 45.21875 56 50.046875 50.171875 \nQ 54.890625 44.34375 54.890625 33.015625 \nz\n\" id=\"DejaVuSans-110\"/>\n      <path d=\"M 18.3125 70.21875 \nL 18.3125 54.6875 \nL 36.8125 54.6875 \nL 36.8125 47.703125 \nL 18.3125 47.703125 \nL 18.3125 18.015625 \nQ 18.3125 11.328125 20.140625 9.421875 \nQ 21.96875 7.515625 27.59375 7.515625 \nL 36.8125 7.515625 \nL 36.8125 0 \nL 27.59375 0 \nQ 17.1875 0 13.234375 3.875 \nQ 9.28125 7.765625 9.28125 18.015625 \nL 9.28125 47.703125 \nL 2.6875 47.703125 \nL 2.6875 54.6875 \nL 9.28125 54.6875 \nL 9.28125 70.21875 \nz\n\" id=\"DejaVuSans-116\"/>\n     </defs>\n     <g transform=\"translate(17.837813 264.345156)rotate(-90)scale(0.14 -0.14)\">\n      <use xlink:href=\"#DejaVuSans-67\"/>\n      <use x=\"69.824219\" xlink:href=\"#DejaVuSans-111\"/>\n      <use x=\"131.005859\" xlink:href=\"#DejaVuSans-117\"/>\n      <use x=\"194.384766\" xlink:href=\"#DejaVuSans-110\"/>\n      <use x=\"257.763672\" xlink:href=\"#DejaVuSans-116\"/>\n     </g>\n    </g>\n   </g>\n   <g id=\"patch_5\">\n    <path d=\"M 50.836875 460.997344 \nL 50.836875 26.117344 \n\" style=\"fill:none;stroke:#000000;stroke-linecap:square;stroke-linejoin:miter;stroke-width:0.8;\"/>\n   </g>\n   <g id=\"patch_6\">\n    <path d=\"M 664.636875 460.997344 \nL 664.636875 26.117344 \n\" style=\"fill:none;stroke:#000000;stroke-linecap:square;stroke-linejoin:miter;stroke-width:0.8;\"/>\n   </g>\n   <g id=\"patch_7\">\n    <path d=\"M 50.836875 460.997344 \nL 664.636875 460.997344 \n\" style=\"fill:none;stroke:#000000;stroke-linecap:square;stroke-linejoin:miter;stroke-width:0.8;\"/>\n   </g>\n   <g id=\"patch_8\">\n    <path d=\"M 50.836875 26.117344 \nL 664.636875 26.117344 \n\" style=\"fill:none;stroke:#000000;stroke-linecap:square;stroke-linejoin:miter;stroke-width:0.8;\"/>\n   </g>\n   <g id=\"text_12\">\n    <!-- Countplot of the labels -->\n    <defs>\n     <path d=\"M 18.109375 8.203125 \nL 18.109375 -20.796875 \nL 9.078125 -20.796875 \nL 9.078125 54.6875 \nL 18.109375 54.6875 \nL 18.109375 46.390625 \nQ 20.953125 51.265625 25.265625 53.625 \nQ 29.59375 56 35.59375 56 \nQ 45.5625 56 51.78125 48.09375 \nQ 58.015625 40.1875 58.015625 27.296875 \nQ 58.015625 14.40625 51.78125 6.484375 \nQ 45.5625 -1.421875 35.59375 -1.421875 \nQ 29.59375 -1.421875 25.265625 0.953125 \nQ 20.953125 3.328125 18.109375 8.203125 \nz\nM 48.6875 27.296875 \nQ 48.6875 37.203125 44.609375 42.84375 \nQ 40.53125 48.484375 33.40625 48.484375 \nQ 26.265625 48.484375 22.1875 42.84375 \nQ 18.109375 37.203125 18.109375 27.296875 \nQ 18.109375 17.390625 22.1875 11.75 \nQ 26.265625 6.109375 33.40625 6.109375 \nQ 40.53125 6.109375 44.609375 11.75 \nQ 48.6875 17.390625 48.6875 27.296875 \nz\n\" id=\"DejaVuSans-112\"/>\n     <path id=\"DejaVuSans-32\"/>\n     <path d=\"M 37.109375 75.984375 \nL 37.109375 68.5 \nL 28.515625 68.5 \nQ 23.6875 68.5 21.796875 66.546875 \nQ 19.921875 64.59375 19.921875 59.515625 \nL 19.921875 54.6875 \nL 34.71875 54.6875 \nL 34.71875 47.703125 \nL 19.921875 47.703125 \nL 19.921875 0 \nL 10.890625 0 \nL 10.890625 47.703125 \nL 2.296875 47.703125 \nL 2.296875 54.6875 \nL 10.890625 54.6875 \nL 10.890625 58.5 \nQ 10.890625 67.625 15.140625 71.796875 \nQ 19.390625 75.984375 28.609375 75.984375 \nz\n\" id=\"DejaVuSans-102\"/>\n     <path d=\"M 54.890625 33.015625 \nL 54.890625 0 \nL 45.90625 0 \nL 45.90625 32.71875 \nQ 45.90625 40.484375 42.875 44.328125 \nQ 39.84375 48.1875 33.796875 48.1875 \nQ 26.515625 48.1875 22.3125 43.546875 \nQ 18.109375 38.921875 18.109375 30.90625 \nL 18.109375 0 \nL 9.078125 0 \nL 9.078125 75.984375 \nL 18.109375 75.984375 \nL 18.109375 46.1875 \nQ 21.34375 51.125 25.703125 53.5625 \nQ 30.078125 56 35.796875 56 \nQ 45.21875 56 50.046875 50.171875 \nQ 54.890625 44.34375 54.890625 33.015625 \nz\n\" id=\"DejaVuSans-104\"/>\n     <path d=\"M 44.28125 53.078125 \nL 44.28125 44.578125 \nQ 40.484375 46.53125 36.375 47.5 \nQ 32.28125 48.484375 27.875 48.484375 \nQ 21.1875 48.484375 17.84375 46.4375 \nQ 14.5 44.390625 14.5 40.28125 \nQ 14.5 37.15625 16.890625 35.375 \nQ 19.28125 33.59375 26.515625 31.984375 \nL 29.59375 31.296875 \nQ 39.15625 29.25 43.1875 25.515625 \nQ 47.21875 21.78125 47.21875 15.09375 \nQ 47.21875 7.46875 41.1875 3.015625 \nQ 35.15625 -1.421875 24.609375 -1.421875 \nQ 20.21875 -1.421875 15.453125 -0.5625 \nQ 10.6875 0.296875 5.421875 2 \nL 5.421875 11.28125 \nQ 10.40625 8.6875 15.234375 7.390625 \nQ 20.0625 6.109375 24.8125 6.109375 \nQ 31.15625 6.109375 34.5625 8.28125 \nQ 37.984375 10.453125 37.984375 14.40625 \nQ 37.984375 18.0625 35.515625 20.015625 \nQ 33.0625 21.96875 24.703125 23.78125 \nL 21.578125 24.515625 \nQ 13.234375 26.265625 9.515625 29.90625 \nQ 5.8125 33.546875 5.8125 39.890625 \nQ 5.8125 47.609375 11.28125 51.796875 \nQ 16.75 56 26.8125 56 \nQ 31.78125 56 36.171875 55.265625 \nQ 40.578125 54.546875 44.28125 53.078125 \nz\n\" id=\"DejaVuSans-115\"/>\n    </defs>\n    <g transform=\"translate(260.971016 20.117344)scale(0.17 -0.17)\">\n     <use xlink:href=\"#DejaVuSans-67\"/>\n     <use x=\"69.824219\" xlink:href=\"#DejaVuSans-111\"/>\n     <use x=\"131.005859\" xlink:href=\"#DejaVuSans-117\"/>\n     <use x=\"194.384766\" xlink:href=\"#DejaVuSans-110\"/>\n     <use x=\"257.763672\" xlink:href=\"#DejaVuSans-116\"/>\n     <use x=\"296.972656\" xlink:href=\"#DejaVuSans-112\"/>\n     <use x=\"360.449219\" xlink:href=\"#DejaVuSans-108\"/>\n     <use x=\"388.232422\" xlink:href=\"#DejaVuSans-111\"/>\n     <use x=\"449.414062\" xlink:href=\"#DejaVuSans-116\"/>\n     <use x=\"488.623047\" xlink:href=\"#DejaVuSans-32\"/>\n     <use x=\"520.410156\" xlink:href=\"#DejaVuSans-111\"/>\n     <use x=\"581.591797\" xlink:href=\"#DejaVuSans-102\"/>\n     <use x=\"616.796875\" xlink:href=\"#DejaVuSans-32\"/>\n     <use x=\"648.583984\" xlink:href=\"#DejaVuSans-116\"/>\n     <use x=\"687.792969\" xlink:href=\"#DejaVuSans-104\"/>\n     <use x=\"751.171875\" xlink:href=\"#DejaVuSans-101\"/>\n     <use x=\"812.695312\" xlink:href=\"#DejaVuSans-32\"/>\n     <use x=\"844.482422\" xlink:href=\"#DejaVuSans-108\"/>\n     <use x=\"872.265625\" xlink:href=\"#DejaVuSans-97\"/>\n     <use x=\"933.544922\" xlink:href=\"#DejaVuSans-98\"/>\n     <use x=\"997.021484\" xlink:href=\"#DejaVuSans-101\"/>\n     <use x=\"1058.544922\" xlink:href=\"#DejaVuSans-108\"/>\n     <use x=\"1086.328125\" xlink:href=\"#DejaVuSans-115\"/>\n    </g>\n   </g>\n  </g>\n </g>\n <defs>\n  <clipPath id=\"p2b9a85df24\">\n   <rect height=\"434.88\" width=\"613.8\" x=\"50.836875\" y=\"26.117344\"/>\n  </clipPath>\n </defs>\n</svg>\n",
      "image/png": "[encoded data removed]"
     },
     "metadata": {
      "needs_background": "light"
     }
    }
   ],
   "source": [
    "cnews['label'] = cnews.label.apply(lambda x: 'FAKE' if x == 'fake' else x)\n",
    "cnews['label'] = cnews.label.apply(lambda x: 'FAKE' if x == 'Fake' else x)\n",
    "\n",
    "from matplotlib import rcParams\n",
    "rcParams['figure.figsize'] = 11, 8\n",
    "sns.countplot(cnews.label)\n",
    "plt.grid(axis='y')\n",
    "plt.title('Countplot of the labels', fontsize=17)\n",
    "plt.xlabel('Label', fontsize=14)\n",
    "plt.ylabel('Count', fontsize=14)"
   ]
  },
  {
   "source": [
    "As we can see in the graph above the labels are clearly balanced. Npw let's check if there are Nan values in the column:"
   ],
   "cell_type": "markdown",
   "metadata": {}
  },
  {
   "source": [
    "Now let's going to check the source column:"
   ],
   "cell_type": "markdown",
   "metadata": {}
  },
  {
   "cell_type": "code",
   "execution_count": 209,
   "metadata": {},
   "outputs": [
    {
     "output_type": "execute_result",
     "data": {
      "text/plain": [
       "array([' AB-TC', '/cordis.europa.eu',\n",
       "       'Change Your Thoughts Change Your Life', 'CharlieKirk',\n",
       "       'Denis chernomazov', 'Dr. A. Sosnowski', 'Evrozona', 'Facebook',\n",
       "       'HealingOracle.ch', 'Instagram',\n",
       "       'Japanese doctors treating COVID-19 cases',\n",
       "       'JoanneWrightForCongress', 'Lijian Zhao', 'Manik',\n",
       "       'Ministry of Health', 'NTV', 'NWLLAB', 'Olga',\n",
       "       'Peter Lee Goodchild', 'RudyGiuliani', 'Sputnik Czech',\n",
       "       'Taiwan Experts', 'Tatyana', 'Tin woodman',\n",
       "       'To Vaccinate Or Not To Vaccinate', 'YouTube', 'canada.ca',\n",
       "       'cdc.gov', 'coronavirusmedicalkit.com', 'fort-russ.com',\n",
       "       'gurunanda.com', 'herbalamy.com', 'http://4chan.org',\n",
       "       'http://8ch.net', 'http://MyNaCl.blogspot.in',\n",
       "       'http://archive.is/', 'http://archive.md/', 'http://archive.vn/',\n",
       "       'http://geoclub.info/', 'http://now8news.com/',\n",
       "       'http://oneworld.press/', 'http://orthomolecular.org/',\n",
       "       'http://redstatewatcher.com/',\n",
       "       'http://theeconomiccollapseblog.com/', 'http://www.24jours.com',\n",
       "       'http://www.Bioterrorism.news', 'http://www.Nsemwoha.com',\n",
       "       'http://www.altermedzentrum.com', 'http://www.banned.news',\n",
       "       'http://www.biased.news', 'http://www.californiacollapse.news',\n",
       "       'http://www.cogiito.com', 'http://www.contre-info.com',\n",
       "       'http://www.drsergegregoire.com/',\n",
       "       'http://www.egaliteetreconciliation.fr',\n",
       "       'http://www.electrosmogprevention.org/',\n",
       "       'http://www.fawkes-news.com', 'http://www.n-ergetics.com/',\n",
       "       'https://afa.net/', 'https://apnews.com/', 'https://archive.fo/',\n",
       "       'https://articles.mercola.com/', 'https://bestpractice.bmj.com/',\n",
       "       'https://biohackinfo.com/', 'https://buffalochronicle.com/',\n",
       "       'https://childrenshealthdefense.org/', 'https://cont.ws/',\n",
       "       'https://coronavirus.jhu.edu/', 'https://de.sputniknews.com/',\n",
       "       'https://directorsblog.nih.gov/', 'https://ec.europa.eu/',\n",
       "       'https://edition.cnn.com/', 'https://electromagnetichealth.org/',\n",
       "       'https://en.news-front.info/', 'https://es.news-front.info/',\n",
       "       'https://euvsdisinfo.eu/', 'https://factcheck.afp.com/',\n",
       "       'https://fr.news-front.info/', 'https://fullfact.org/',\n",
       "       'https://g2churchnews.org', 'https://g2voice.is/broadcast',\n",
       "       'https://genesis2church.ch', 'https://gnews.org/',\n",
       "       'https://greatgameindia.com/', 'https://healingoracle.ch/',\n",
       "       'https://healthfeedback.org/', 'https://healthimpactnews.com/',\n",
       "       'https://hub.jhu.edu/', 'https://humansarefree.com/',\n",
       "       'https://jimhumble.co/', 'https://journal-neo.org/',\n",
       "       'https://katehon.com/', 'https://khn.org/',\n",
       "       'https://medialeaks.ru/', 'https://medicine-today.net/',\n",
       "       'https://medmedia.am/', 'https://melmagazine.com/',\n",
       "       'https://mundo.sputniknews.com/', 'https://nypost.com/',\n",
       "       'https://obamawatcher.com/', 'https://onenewsnow.com/',\n",
       "       'https://perma.cc/', 'https://prankmania.com/',\n",
       "       'https://prntly.com/', 'https://realfarmacy.com/',\n",
       "       'https://sciencefeedback.co/', 'https://smombiegate.org/',\n",
       "       'https://sonsoflibertymedia.com/', 'https://southfront.org/',\n",
       "       'https://sputnik.by/', 'https://techstartups.com/',\n",
       "       'https://thebl.com/', 'https://thebulletin.org/',\n",
       "       'https://theconversation.com/', 'https://thedonald.win/',\n",
       "       'https://thefreedomarticles.com/', 'https://themindunleashed.com/',\n",
       "       'https://thespectator.info/', 'https://thetruthaboutcancer.com/',\n",
       "       'https://truepundit.com/', 'https://tvzvezda.ru/',\n",
       "       'https://ua.usembassy.gov/', 'https://vaxxter.com/',\n",
       "       'https://web.archive.org/', 'https://worldnewsdailyreport.com/',\n",
       "       'https://www.activistpost.com/', 'https://www.alt-market.com/',\n",
       "       'https://www.americanthinker.com/',\n",
       "       'https://www.aubedigitale.com/', 'https://www.bbc.com/',\n",
       "       'https://www.bloomberg.com/', 'https://www.businessinsider.com/',\n",
       "       'https://www.buzzfeednews.com/', 'https://www.cbsnews.com/',\n",
       "       'https://www.cdc.gov/', 'https://www.centerforhealthsecurity.org/',\n",
       "       'https://www.chop.edu/', 'https://www.citadelpoliticss.com/',\n",
       "       'https://www.cnbc.com/', 'https://www.cnet.com/',\n",
       "       'https://www.cnn.com/', 'https://www.ctvnews.ca/',\n",
       "       'https://www.dailymail.co.uk/news/article-8009669/Did-coronavirus-originate-Chinese-government-laboratory.html',\n",
       "       'https://www.dailystar.co.uk/', 'https://www.davidicke.com/',\n",
       "       'https://www.dcclothesline.com/', 'https://www.dni.gov/',\n",
       "       'https://www.ecdc.europa.eu/', 'https://www.economist.com',\n",
       "       'https://www.energytherapy.biz/', 'https://www.express.co.uk/',\n",
       "       'https://www.factcheck.org/', 'https://www.fda.gov/',\n",
       "       'https://www.forbes.com/', 'https://www.fredhutch.org/',\n",
       "       'https://www.gatesnotes.com/Health/Pandemic-Innovation',\n",
       "       'https://www.geopolitica.ru/', 'https://www.gilmorehealth.com/',\n",
       "       'https://www.globalhealthnow.org/',\n",
       "       'https://www.globalresearch.ca/',\n",
       "       'https://www.health.harvard.edu/',\n",
       "       'https://www.healthnutnews.com/', 'https://www.hln.be/',\n",
       "       'https://www.homenaturalcures.com/',\n",
       "       'https://www.hopkinsmedicine.org/', 'https://www.infowars.com/',\n",
       "       'https://www.irishcentral.com/', 'https://www.livescience.com/',\n",
       "       'https://www.lukestorey.com/', 'https://www.mayoclinic.org/',\n",
       "       'https://www.mercola.com/', 'https://www.mondialisation.ca/',\n",
       "       'https://www.msn.com/', 'https://www.nationalgeographic.com/',\n",
       "       'https://www.naturalhealth365.com/',\n",
       "       'https://www.naturalnews.com/', 'https://www.nature.com/',\n",
       "       'https://www.nbcnews.com/', 'https://www.nccih.nih.gov/',\n",
       "       'https://www.nejm.org/', 'https://www.newstarget.com',\n",
       "       'https://www.nih.gov/', 'https://www.nowtheendbegins.com/',\n",
       "       'https://www.ntd.com/', 'https://www.nytimes.com/',\n",
       "       'https://www.oann.com/', 'https://www.organicconsumers.org/',\n",
       "       'https://www.outlookindia.com/', 'https://www.pcmag.com/',\n",
       "       'https://www.phonescoop.com/', 'https://www.politico.eu/',\n",
       "       'https://www.politifact.com/', 'https://www.presstv.com/',\n",
       "       'https://www.quinessence.com/', 'https://www.redstate.com/',\n",
       "       'https://www.reuters.com/', 'https://www.rt.com/',\n",
       "       'https://www.rushlimbaugh.com/', 'https://www.sbs.com.au/',\n",
       "       'https://www.sciencedaily.com/releases/2020/03/200317175442.htm',\n",
       "       'https://www.sciencedirect.com/', 'https://www.sciencemag.org/',\n",
       "       'https://www.scientificamerican.com/', 'https://www.scmp.com/',\n",
       "       'https://www.snopes.com/', 'https://www.sott.net/',\n",
       "       'https://www.statnews.com/', 'https://www.strategic-culture.org/',\n",
       "       'https://www.taipeitimes.com/', 'https://www.tandfonline.com/',\n",
       "       'https://www.technocracy.news/',\n",
       "       'https://www.technologyreview.com/',\n",
       "       'https://www.theatlantic.com/', 'https://www.theepochtimes.com/',\n",
       "       'https://www.thegatewaypundit.com/',\n",
       "       'https://www.theguardian.com/', 'https://www.thelancet.com/',\n",
       "       'https://www.thelastamericanvagabond.com/',\n",
       "       'https://www.theonion.com/', 'https://www.theverge.com/',\n",
       "       'https://www.tierneyrealnewsnetwork.com/',\n",
       "       'https://www.usatoday.com/',\n",
       "       'https://www.vaccinationinformationnetwork.com/',\n",
       "       'https://www.vanityfair.com/', 'https://www.voanews.com/',\n",
       "       'https://www.vox.com/', 'https://www.wakingtimes.com/',\n",
       "       'https://www.washingtonexaminer.com/',\n",
       "       'https://www.washingtonpost.com/',\n",
       "       'https://www.washingtonpost.com/opinions',\n",
       "       'https://www.washingtontimes.com/', 'https://www.weforum.org/',\n",
       "       'https://www.westonaprice.org/', 'https://www.who.int/',\n",
       "       'https://www.who.int/emergencies/diseases/novel-coronavirus-2019/advice-for-public',\n",
       "       'https://www.who.int/emergencies/diseases/novel-coronavirus-2019/advice-for-public/myth-busters',\n",
       "       'https://www.wired.co.uk/', 'https://www.wnd.com/',\n",
       "       'https://www.worldhealth.net/', 'https://www.zerohedge.com/',\n",
       "       'https://zvezdaweekly.ru/', 'infowars.com', 'jimbakkershow.com',\n",
       "       'jimhumble.co', 'reddit.com', 'riafan.ru', 'rubaltic.ru',\n",
       "       'southfront.org', 'strategic-culture.org', 'ttps://www.rand.org',\n",
       "       'twitter', 'utro.ru', 'vivifyholistic.ca',\n",
       "       'www.purevitalsilver.com', 'www.rt.com', 'www.who.int',\n",
       "       'zavtra.ru', nan], dtype=object)"
      ]
     },
     "metadata": {},
     "execution_count": 209
    }
   ],
   "source": [
    "cnews.source.sort_values().unique() # In order to identify better the values that differs very vaguely but essentially are the same source (Facebook --> facebook for example) we are going to sort them alphabetically."
   ]
  },
  {
   "source": [
    "After a while looking for equivalent labels, this are which I have found:\n",
    "\n",
    "Facebook -- facebook\n",
    "\n",
    "Youtube -- YouTube -- https://www.youtube.com/\n",
    "\n",
    "https://www.who.int/emergencies/diseases/novel-coronavirus-2019/advice-for-public -- https://www.who.int/emergencies/diseases/novel-coronavirus-2019/advice-for-public/myth-busters\n",
    "\n",
    "https://www.washingtonpost.com/ -- https://www.washingtonpost.com/opinions\n",
    "\n",
    "https://www.who.int/ -- https://www.who.int/emergencies/diseases/novel-coronavirus-2019/advice-for-public -- https://www.who.int/emergencies/diseases/novel-coronavirus-2019/advice-for-public/myth-busters\n",
    "\n",
    "https://www.snopes.com/ -- https://www.snopes.com/news/2020/03/03/why-hand-washing-really-is-as-important-as-doctors-say/?collection-id=241238\n",
    "\n",
    "http://archive.is/ -- http://archive.md/ -- http://archive.vn/\n",
    "\n",
    "https://jimhumble.co -- https://jimhumble.co/\n",
    "\n",
    "http://www.Instagram.com -- Instagram\n",
    "\n",
    "https://www.sciencedaily.com/ -- https://www.sciencedaily.com/releases/2020/03/200317175442.htm\n",
    "\n",
    "https://www.newstarget.com -- https://www.newstarget.com/\n",
    "\n",
    "https://www.globalresearch.ca' --  'https://www.globalresearch.ca/'\n",
    "\n",
    "https://www.naturalnews.com -- https://www.naturalnews.com/\n",
    "\n",
    "https://web.archive.org -- https://web.archive.org/\n",
    "\n",
    "https://www.ecdc.europa.eu -- https://www.ecdc.europa.eu/"
   ],
   "cell_type": "markdown",
   "metadata": {}
  },
  {
   "source": [
    "In order to get more precission when we train the algoritm, we are going to change some of the labels from above ()"
   ],
   "cell_type": "markdown",
   "metadata": {}
  },
  {
   "cell_type": "code",
   "execution_count": 211,
   "metadata": {},
   "outputs": [],
   "source": [
    "cnews.source = cnews.source.apply(lambda x: 'YouTube' if x == 'Youtube' else x)\n",
    "\n",
    "cnews = cnews.replace(['https://www.youtube.com/', 'facebook', 'https://www.snopes.com/news/2020/03/03/why-hand-washing-really-is-as-important-as-doctors-say/?collection-id=241238', 'https://jimhumble.co', 'http://www.Instagram.com', 'https://www.sciencedaily.com/', 'https://www.newstarget.com/', 'https://www.globalresearch.ca', 'https://www.naturalnews.com', 'https://web.archive.org', 'https://www.ecdc.europa.eu'],['YouTube', 'Facebook', 'https://www.snopes.com/', 'https://jimhumble.co/', 'Instagram', 'https://www.sciencedaily.com/releases/2020/03/200317175442.htm', 'https://www.newstarget.com', 'https://www.globalresearch.ca/', 'https://www.naturalnews.com/', 'https://web.archive.org/', 'https://www.ecdc.europa.eu/']) "
   ]
  },
  {
   "cell_type": "code",
   "execution_count": 213,
   "metadata": {},
   "outputs": [
    {
     "output_type": "execute_result",
     "data": {
      "text/plain": [
       "array([' AB-TC', '/cordis.europa.eu',\n",
       "       'Change Your Thoughts Change Your Life', 'CharlieKirk',\n",
       "       'Denis chernomazov', 'Dr. A. Sosnowski', 'Evrozona', 'Facebook',\n",
       "       'HealingOracle.ch', 'Instagram',\n",
       "       'Japanese doctors treating COVID-19 cases',\n",
       "       'JoanneWrightForCongress', 'Lijian Zhao', 'Manik',\n",
       "       'Ministry of Health', 'NTV', 'NWLLAB', 'Olga',\n",
       "       'Peter Lee Goodchild', 'RudyGiuliani', 'Sputnik Czech',\n",
       "       'Taiwan Experts', 'Tatyana', 'Tin woodman',\n",
       "       'To Vaccinate Or Not To Vaccinate', 'YouTube', 'canada.ca',\n",
       "       'cdc.gov', 'coronavirusmedicalkit.com', 'fort-russ.com',\n",
       "       'gurunanda.com', 'herbalamy.com', 'http://4chan.org',\n",
       "       'http://8ch.net', 'http://MyNaCl.blogspot.in',\n",
       "       'http://archive.is/', 'http://archive.md/', 'http://archive.vn/',\n",
       "       'http://geoclub.info/', 'http://now8news.com/',\n",
       "       'http://oneworld.press/', 'http://orthomolecular.org/',\n",
       "       'http://redstatewatcher.com/',\n",
       "       'http://theeconomiccollapseblog.com/', 'http://www.24jours.com',\n",
       "       'http://www.Bioterrorism.news', 'http://www.Nsemwoha.com',\n",
       "       'http://www.altermedzentrum.com', 'http://www.banned.news',\n",
       "       'http://www.biased.news', 'http://www.californiacollapse.news',\n",
       "       'http://www.cogiito.com', 'http://www.contre-info.com',\n",
       "       'http://www.drsergegregoire.com/',\n",
       "       'http://www.egaliteetreconciliation.fr',\n",
       "       'http://www.electrosmogprevention.org/',\n",
       "       'http://www.fawkes-news.com', 'http://www.n-ergetics.com/',\n",
       "       'https://afa.net/', 'https://apnews.com/', 'https://archive.fo/',\n",
       "       'https://articles.mercola.com/', 'https://bestpractice.bmj.com/',\n",
       "       'https://biohackinfo.com/', 'https://buffalochronicle.com/',\n",
       "       'https://childrenshealthdefense.org/', 'https://cont.ws/',\n",
       "       'https://coronavirus.jhu.edu/', 'https://de.sputniknews.com/',\n",
       "       'https://directorsblog.nih.gov/', 'https://ec.europa.eu/',\n",
       "       'https://edition.cnn.com/', 'https://electromagnetichealth.org/',\n",
       "       'https://en.news-front.info/', 'https://es.news-front.info/',\n",
       "       'https://euvsdisinfo.eu/', 'https://factcheck.afp.com/',\n",
       "       'https://fr.news-front.info/', 'https://fullfact.org/',\n",
       "       'https://g2churchnews.org', 'https://g2voice.is/broadcast',\n",
       "       'https://genesis2church.ch', 'https://gnews.org/',\n",
       "       'https://greatgameindia.com/', 'https://healingoracle.ch/',\n",
       "       'https://healthfeedback.org/', 'https://healthimpactnews.com/',\n",
       "       'https://hub.jhu.edu/', 'https://humansarefree.com/',\n",
       "       'https://jimhumble.co/', 'https://journal-neo.org/',\n",
       "       'https://katehon.com/', 'https://khn.org/',\n",
       "       'https://medialeaks.ru/', 'https://medicine-today.net/',\n",
       "       'https://medmedia.am/', 'https://melmagazine.com/',\n",
       "       'https://mundo.sputniknews.com/', 'https://nypost.com/',\n",
       "       'https://obamawatcher.com/', 'https://onenewsnow.com/',\n",
       "       'https://perma.cc/', 'https://prankmania.com/',\n",
       "       'https://prntly.com/', 'https://realfarmacy.com/',\n",
       "       'https://sciencefeedback.co/', 'https://smombiegate.org/',\n",
       "       'https://sonsoflibertymedia.com/', 'https://southfront.org/',\n",
       "       'https://sputnik.by/', 'https://techstartups.com/',\n",
       "       'https://thebl.com/', 'https://thebulletin.org/',\n",
       "       'https://theconversation.com/', 'https://thedonald.win/',\n",
       "       'https://thefreedomarticles.com/', 'https://themindunleashed.com/',\n",
       "       'https://thespectator.info/', 'https://thetruthaboutcancer.com/',\n",
       "       'https://truepundit.com/', 'https://tvzvezda.ru/',\n",
       "       'https://ua.usembassy.gov/', 'https://vaxxter.com/',\n",
       "       'https://web.archive.org/', 'https://worldnewsdailyreport.com/',\n",
       "       'https://www.activistpost.com/', 'https://www.alt-market.com/',\n",
       "       'https://www.americanthinker.com/',\n",
       "       'https://www.aubedigitale.com/', 'https://www.bbc.com/',\n",
       "       'https://www.bloomberg.com/', 'https://www.businessinsider.com/',\n",
       "       'https://www.buzzfeednews.com/', 'https://www.cbsnews.com/',\n",
       "       'https://www.cdc.gov/', 'https://www.centerforhealthsecurity.org/',\n",
       "       'https://www.chop.edu/', 'https://www.citadelpoliticss.com/',\n",
       "       'https://www.cnbc.com/', 'https://www.cnet.com/',\n",
       "       'https://www.cnn.com/', 'https://www.ctvnews.ca/',\n",
       "       'https://www.dailymail.co.uk/news/article-8009669/Did-coronavirus-originate-Chinese-government-laboratory.html',\n",
       "       'https://www.dailystar.co.uk/', 'https://www.davidicke.com/',\n",
       "       'https://www.dcclothesline.com/', 'https://www.dni.gov/',\n",
       "       'https://www.ecdc.europa.eu/', 'https://www.economist.com',\n",
       "       'https://www.energytherapy.biz/', 'https://www.express.co.uk/',\n",
       "       'https://www.factcheck.org/', 'https://www.fda.gov/',\n",
       "       'https://www.forbes.com/', 'https://www.fredhutch.org/',\n",
       "       'https://www.gatesnotes.com/Health/Pandemic-Innovation',\n",
       "       'https://www.geopolitica.ru/', 'https://www.gilmorehealth.com/',\n",
       "       'https://www.globalhealthnow.org/',\n",
       "       'https://www.globalresearch.ca/',\n",
       "       'https://www.health.harvard.edu/',\n",
       "       'https://www.healthnutnews.com/', 'https://www.hln.be/',\n",
       "       'https://www.homenaturalcures.com/',\n",
       "       'https://www.hopkinsmedicine.org/', 'https://www.infowars.com/',\n",
       "       'https://www.irishcentral.com/', 'https://www.livescience.com/',\n",
       "       'https://www.lukestorey.com/', 'https://www.mayoclinic.org/',\n",
       "       'https://www.mercola.com/', 'https://www.mondialisation.ca/',\n",
       "       'https://www.msn.com/', 'https://www.nationalgeographic.com/',\n",
       "       'https://www.naturalhealth365.com/',\n",
       "       'https://www.naturalnews.com/', 'https://www.nature.com/',\n",
       "       'https://www.nbcnews.com/', 'https://www.nccih.nih.gov/',\n",
       "       'https://www.nejm.org/', 'https://www.newstarget.com',\n",
       "       'https://www.nih.gov/', 'https://www.nowtheendbegins.com/',\n",
       "       'https://www.ntd.com/', 'https://www.nytimes.com/',\n",
       "       'https://www.oann.com/', 'https://www.organicconsumers.org/',\n",
       "       'https://www.outlookindia.com/', 'https://www.pcmag.com/',\n",
       "       'https://www.phonescoop.com/', 'https://www.politico.eu/',\n",
       "       'https://www.politifact.com/', 'https://www.presstv.com/',\n",
       "       'https://www.quinessence.com/', 'https://www.redstate.com/',\n",
       "       'https://www.reuters.com/', 'https://www.rt.com/',\n",
       "       'https://www.rushlimbaugh.com/', 'https://www.sbs.com.au/',\n",
       "       'https://www.sciencedaily.com/releases/2020/03/200317175442.htm',\n",
       "       'https://www.sciencedirect.com/', 'https://www.sciencemag.org/',\n",
       "       'https://www.scientificamerican.com/', 'https://www.scmp.com/',\n",
       "       'https://www.snopes.com/', 'https://www.sott.net/',\n",
       "       'https://www.statnews.com/', 'https://www.strategic-culture.org/',\n",
       "       'https://www.taipeitimes.com/', 'https://www.tandfonline.com/',\n",
       "       'https://www.technocracy.news/',\n",
       "       'https://www.technologyreview.com/',\n",
       "       'https://www.theatlantic.com/', 'https://www.theepochtimes.com/',\n",
       "       'https://www.thegatewaypundit.com/',\n",
       "       'https://www.theguardian.com/', 'https://www.thelancet.com/',\n",
       "       'https://www.thelastamericanvagabond.com/',\n",
       "       'https://www.theonion.com/', 'https://www.theverge.com/',\n",
       "       'https://www.tierneyrealnewsnetwork.com/',\n",
       "       'https://www.usatoday.com/',\n",
       "       'https://www.vaccinationinformationnetwork.com/',\n",
       "       'https://www.vanityfair.com/', 'https://www.voanews.com/',\n",
       "       'https://www.vox.com/', 'https://www.wakingtimes.com/',\n",
       "       'https://www.washingtonexaminer.com/',\n",
       "       'https://www.washingtonpost.com/',\n",
       "       'https://www.washingtonpost.com/opinions',\n",
       "       'https://www.washingtontimes.com/', 'https://www.weforum.org/',\n",
       "       'https://www.westonaprice.org/', 'https://www.who.int/',\n",
       "       'https://www.who.int/emergencies/diseases/novel-coronavirus-2019/advice-for-public',\n",
       "       'https://www.who.int/emergencies/diseases/novel-coronavirus-2019/advice-for-public/myth-busters',\n",
       "       'https://www.wired.co.uk/', 'https://www.wnd.com/',\n",
       "       'https://www.worldhealth.net/', 'https://www.zerohedge.com/',\n",
       "       'https://zvezdaweekly.ru/', 'infowars.com', 'jimbakkershow.com',\n",
       "       'jimhumble.co', 'reddit.com', 'riafan.ru', 'rubaltic.ru',\n",
       "       'southfront.org', 'strategic-culture.org', 'ttps://www.rand.org',\n",
       "       'twitter', 'utro.ru', 'vivifyholistic.ca',\n",
       "       'www.purevitalsilver.com', 'www.rt.com', 'www.who.int',\n",
       "       'zavtra.ru', nan], dtype=object)"
      ]
     },
     "metadata": {},
     "execution_count": 213
    }
   ],
   "source": [
    "cnews.source.sort_values().unique()"
   ]
  },
  {
   "cell_type": "code",
   "execution_count": 215,
   "metadata": {},
   "outputs": [
    {
     "output_type": "execute_result",
     "data": {
      "text/plain": [
       "array(['FAKE', 'TRUE'], dtype=object)"
      ]
     },
     "metadata": {},
     "execution_count": 215
    }
   ],
   "source": [
    "cnews.label.unique() # Looking to the values of the labels column, we see that there is Nan values.in"
   ]
  },
  {
   "source": [
    "Now we are going to fill or drop the Nan values:"
   ],
   "cell_type": "markdown",
   "metadata": {}
  },
  {
   "cell_type": "code",
   "execution_count": 217,
   "metadata": {},
   "outputs": [],
   "source": [
    "cnews['title'] = cnews.title.fillna('Missing')\n",
    "cnews['source'] = cnews.source.fillna('Missing')\n",
    "cnews['text'] = cnews.text.fillna(cnews.title)\n",
    "\n",
    "cnews.dropna(axis=0, inplace=True)"
   ]
  },
  {
   "cell_type": "code",
   "execution_count": 219,
   "metadata": {},
   "outputs": [
    {
     "output_type": "execute_result",
     "data": {
      "text/plain": [
       "array(['FAKE', 'TRUE'], dtype=object)"
      ]
     },
     "metadata": {},
     "execution_count": 219
    }
   ],
   "source": [
    "cnews.label.unique()"
   ]
  },
  {
   "cell_type": "code",
   "execution_count": 221,
   "metadata": {},
   "outputs": [
    {
     "output_type": "stream",
     "name": "stdout",
     "text": [
      "<class 'pandas.core.frame.DataFrame'>\nInt64Index: 1159 entries, 0 to 1163\nData columns (total 6 columns):\n #   Column          Non-Null Count  Dtype \n---  ------          --------------  ----- \n 0   title           1159 non-null   object\n 1   text            1159 non-null   object\n 2   source          1159 non-null   object\n 3   label           1159 non-null   object\n 4   fakes           1159 non-null   int64 \n 5   number_of_news  1159 non-null   int64 \ndtypes: int64(2), object(4)\nmemory usage: 63.4+ KB\n"
     ]
    }
   ],
   "source": [
    "cnews.info()"
   ]
  },
  {
   "cell_type": "code",
   "execution_count": 272,
   "metadata": {},
   "outputs": [
    {
     "output_type": "execute_result",
     "data": {
      "text/plain": [
       "                                       number_of_news  fakes  \\\n",
       "source                                                         \n",
       "Facebook                                           61     61   \n",
       "https://www.naturalnews.com/                       26     26   \n",
       "https://web.archive.org/                           22     22   \n",
       "http://orthomolecular.org/                         21     21   \n",
       "YouTube                                            19     19   \n",
       "https://www.globalresearch.ca/                     19     19   \n",
       "Missing                                            17     17   \n",
       "https://southfront.org/                            17     17   \n",
       "https://journal-neo.org/                           11     11   \n",
       "https://techstartups.com/                          10     10   \n",
       "https://www.citadelpoliticss.com/                  10     10   \n",
       "https://www.geopolitica.ru/                        10     10   \n",
       "https://childrenshealthdefense.org/                 9      9   \n",
       "https://www.rt.com/                                 9      9   \n",
       "https://www.strategic-culture.org/                  9      9   \n",
       "https://gnews.org/                                  8      8   \n",
       "https://www.activistpost.com/                       8      8   \n",
       "https://www.newstarget.com                          7      7   \n",
       "https://www.wakingtimes.com/                        7      7   \n",
       "https://www.zerohedge.com/                          7      7   \n",
       "http://archive.is/                                  6      6   \n",
       "http://www.banned.news                              6      6   \n",
       "https://greatgameindia.com/                         6      6   \n",
       "https://katehon.com/                                6      6   \n",
       "HealingOracle.ch                                    5      5   \n",
       "https://vaxxter.com/                                5      5   \n",
       "http://oneworld.press/                              4      4   \n",
       "https://electromagnetichealth.org/                  4      4   \n",
       "https://www.naturalhealth365.com/                   4      4   \n",
       "https://www.thegatewaypundit.com/                   4      4   \n",
       "Instagram                                           3      3   \n",
       "http://archive.md/                                  3      3   \n",
       "http://www.Bioterrorism.news                        3      3   \n",
       "http://www.biased.news                              3      3   \n",
       "http://www.californiacollapse.news                  3      3   \n",
       "http://www.electrosmogprevention.org/               3      3   \n",
       "https://articles.mercola.com/                       3      3   \n",
       "https://es.news-front.info/                         3      3   \n",
       "https://healingoracle.ch/                           3      3   \n",
       "https://prntly.com/                                 3      3   \n",
       "https://www.americanthinker.com/                    3      3   \n",
       "https://www.dcclothesline.com/                      3      3   \n",
       "https://www.nowtheendbegins.com/                    3      3   \n",
       "https://www.organicconsumers.org/                   3      3   \n",
       "https://www.rushlimbaugh.com/                       3      3   \n",
       "https://www.sott.net/                               3      3   \n",
       "https://www.theepochtimes.com/                      3      3   \n",
       "https://www.worldhealth.net/                        3      3   \n",
       "JoanneWrightForCongress                             2      2   \n",
       "Tin woodman                                         2      2   \n",
       "\n",
       "                                       fakes_proportion (%)  \n",
       "source                                                       \n",
       "Facebook                                              100.0  \n",
       "https://www.naturalnews.com/                          100.0  \n",
       "https://web.archive.org/                              100.0  \n",
       "http://orthomolecular.org/                            100.0  \n",
       "YouTube                                               100.0  \n",
       "https://www.globalresearch.ca/                        100.0  \n",
       "Missing                                               100.0  \n",
       "https://southfront.org/                               100.0  \n",
       "https://journal-neo.org/                              100.0  \n",
       "https://techstartups.com/                             100.0  \n",
       "https://www.citadelpoliticss.com/                     100.0  \n",
       "https://www.geopolitica.ru/                           100.0  \n",
       "https://childrenshealthdefense.org/                   100.0  \n",
       "https://www.rt.com/                                   100.0  \n",
       "https://www.strategic-culture.org/                    100.0  \n",
       "https://gnews.org/                                    100.0  \n",
       "https://www.activistpost.com/                         100.0  \n",
       "https://www.newstarget.com                            100.0  \n",
       "https://www.wakingtimes.com/                          100.0  \n",
       "https://www.zerohedge.com/                            100.0  \n",
       "http://archive.is/                                    100.0  \n",
       "http://www.banned.news                                100.0  \n",
       "https://greatgameindia.com/                           100.0  \n",
       "https://katehon.com/                                  100.0  \n",
       "HealingOracle.ch                                      100.0  \n",
       "https://vaxxter.com/                                  100.0  \n",
       "http://oneworld.press/                                100.0  \n",
       "https://electromagnetichealth.org/                    100.0  \n",
       "https://www.naturalhealth365.com/                     100.0  \n",
       "https://www.thegatewaypundit.com/                     100.0  \n",
       "Instagram                                             100.0  \n",
       "http://archive.md/                                    100.0  \n",
       "http://www.Bioterrorism.news                          100.0  \n",
       "http://www.biased.news                                100.0  \n",
       "http://www.californiacollapse.news                    100.0  \n",
       "http://www.electrosmogprevention.org/                 100.0  \n",
       "https://articles.mercola.com/                         100.0  \n",
       "https://es.news-front.info/                           100.0  \n",
       "https://healingoracle.ch/                             100.0  \n",
       "https://prntly.com/                                   100.0  \n",
       "https://www.americanthinker.com/                      100.0  \n",
       "https://www.dcclothesline.com/                        100.0  \n",
       "https://www.nowtheendbegins.com/                      100.0  \n",
       "https://www.organicconsumers.org/                     100.0  \n",
       "https://www.rushlimbaugh.com/                         100.0  \n",
       "https://www.sott.net/                                 100.0  \n",
       "https://www.theepochtimes.com/                        100.0  \n",
       "https://www.worldhealth.net/                          100.0  \n",
       "JoanneWrightForCongress                               100.0  \n",
       "Tin woodman                                           100.0  "
      ],
      "text/html": "<div>\n<style scoped>\n    .dataframe tbody tr th:only-of-type {\n        vertical-align: middle;\n    }\n\n    .dataframe tbody tr th {\n        vertical-align: top;\n    }\n\n    .dataframe thead th {\n        text-align: right;\n    }\n</style>\n<table border=\"1\" class=\"dataframe\">\n  <thead>\n    <tr style=\"text-align: right;\">\n      <th></th>\n      <th>number_of_news</th>\n      <th>fakes</th>\n      <th>fakes_proportion (%)</th>\n    </tr>\n    <tr>\n      <th>source</th>\n      <th></th>\n      <th></th>\n      <th></th>\n    </tr>\n  </thead>\n  <tbody>\n    <tr>\n      <th>Facebook</th>\n      <td>61</td>\n      <td>61</td>\n      <td>100.0</td>\n    </tr>\n    <tr>\n      <th>https://www.naturalnews.com/</th>\n      <td>26</td>\n      <td>26</td>\n      <td>100.0</td>\n    </tr>\n    <tr>\n      <th>https://web.archive.org/</th>\n      <td>22</td>\n      <td>22</td>\n      <td>100.0</td>\n    </tr>\n    <tr>\n      <th>http://orthomolecular.org/</th>\n      <td>21</td>\n      <td>21</td>\n      <td>100.0</td>\n    </tr>\n    <tr>\n      <th>YouTube</th>\n      <td>19</td>\n      <td>19</td>\n      <td>100.0</td>\n    </tr>\n    <tr>\n      <th>https://www.globalresearch.ca/</th>\n      <td>19</td>\n      <td>19</td>\n      <td>100.0</td>\n    </tr>\n    <tr>\n      <th>Missing</th>\n      <td>17</td>\n      <td>17</td>\n      <td>100.0</td>\n    </tr>\n    <tr>\n      <th>https://southfront.org/</th>\n      <td>17</td>\n      <td>17</td>\n      <td>100.0</td>\n    </tr>\n    <tr>\n      <th>https://journal-neo.org/</th>\n      <td>11</td>\n      <td>11</td>\n      <td>100.0</td>\n    </tr>\n    <tr>\n      <th>https://techstartups.com/</th>\n      <td>10</td>\n      <td>10</td>\n      <td>100.0</td>\n    </tr>\n    <tr>\n      <th>https://www.citadelpoliticss.com/</th>\n      <td>10</td>\n      <td>10</td>\n      <td>100.0</td>\n    </tr>\n    <tr>\n      <th>https://www.geopolitica.ru/</th>\n      <td>10</td>\n      <td>10</td>\n      <td>100.0</td>\n    </tr>\n    <tr>\n      <th>https://childrenshealthdefense.org/</th>\n      <td>9</td>\n      <td>9</td>\n      <td>100.0</td>\n    </tr>\n    <tr>\n      <th>https://www.rt.com/</th>\n      <td>9</td>\n      <td>9</td>\n      <td>100.0</td>\n    </tr>\n    <tr>\n      <th>https://www.strategic-culture.org/</th>\n      <td>9</td>\n      <td>9</td>\n      <td>100.0</td>\n    </tr>\n    <tr>\n      <th>https://gnews.org/</th>\n      <td>8</td>\n      <td>8</td>\n      <td>100.0</td>\n    </tr>\n    <tr>\n      <th>https://www.activistpost.com/</th>\n      <td>8</td>\n      <td>8</td>\n      <td>100.0</td>\n    </tr>\n    <tr>\n      <th>https://www.newstarget.com</th>\n      <td>7</td>\n      <td>7</td>\n      <td>100.0</td>\n    </tr>\n    <tr>\n      <th>https://www.wakingtimes.com/</th>\n      <td>7</td>\n      <td>7</td>\n      <td>100.0</td>\n    </tr>\n    <tr>\n      <th>https://www.zerohedge.com/</th>\n      <td>7</td>\n      <td>7</td>\n      <td>100.0</td>\n    </tr>\n    <tr>\n      <th>http://archive.is/</th>\n      <td>6</td>\n      <td>6</td>\n      <td>100.0</td>\n    </tr>\n    <tr>\n      <th>http://www.banned.news</th>\n      <td>6</td>\n      <td>6</td>\n      <td>100.0</td>\n    </tr>\n    <tr>\n      <th>https://greatgameindia.com/</th>\n      <td>6</td>\n      <td>6</td>\n      <td>100.0</td>\n    </tr>\n    <tr>\n      <th>https://katehon.com/</th>\n      <td>6</td>\n      <td>6</td>\n      <td>100.0</td>\n    </tr>\n    <tr>\n      <th>HealingOracle.ch</th>\n      <td>5</td>\n      <td>5</td>\n      <td>100.0</td>\n    </tr>\n    <tr>\n      <th>https://vaxxter.com/</th>\n      <td>5</td>\n      <td>5</td>\n      <td>100.0</td>\n    </tr>\n    <tr>\n      <th>http://oneworld.press/</th>\n      <td>4</td>\n      <td>4</td>\n      <td>100.0</td>\n    </tr>\n    <tr>\n      <th>https://electromagnetichealth.org/</th>\n      <td>4</td>\n      <td>4</td>\n      <td>100.0</td>\n    </tr>\n    <tr>\n      <th>https://www.naturalhealth365.com/</th>\n      <td>4</td>\n      <td>4</td>\n      <td>100.0</td>\n    </tr>\n    <tr>\n      <th>https://www.thegatewaypundit.com/</th>\n      <td>4</td>\n      <td>4</td>\n      <td>100.0</td>\n    </tr>\n    <tr>\n      <th>Instagram</th>\n      <td>3</td>\n      <td>3</td>\n      <td>100.0</td>\n    </tr>\n    <tr>\n      <th>http://archive.md/</th>\n      <td>3</td>\n      <td>3</td>\n      <td>100.0</td>\n    </tr>\n    <tr>\n      <th>http://www.Bioterrorism.news</th>\n      <td>3</td>\n      <td>3</td>\n      <td>100.0</td>\n    </tr>\n    <tr>\n      <th>http://www.biased.news</th>\n      <td>3</td>\n      <td>3</td>\n      <td>100.0</td>\n    </tr>\n    <tr>\n      <th>http://www.californiacollapse.news</th>\n      <td>3</td>\n      <td>3</td>\n      <td>100.0</td>\n    </tr>\n    <tr>\n      <th>http://www.electrosmogprevention.org/</th>\n      <td>3</td>\n      <td>3</td>\n      <td>100.0</td>\n    </tr>\n    <tr>\n      <th>https://articles.mercola.com/</th>\n      <td>3</td>\n      <td>3</td>\n      <td>100.0</td>\n    </tr>\n    <tr>\n      <th>https://es.news-front.info/</th>\n      <td>3</td>\n      <td>3</td>\n      <td>100.0</td>\n    </tr>\n    <tr>\n      <th>https://healingoracle.ch/</th>\n      <td>3</td>\n      <td>3</td>\n      <td>100.0</td>\n    </tr>\n    <tr>\n      <th>https://prntly.com/</th>\n      <td>3</td>\n      <td>3</td>\n      <td>100.0</td>\n    </tr>\n    <tr>\n      <th>https://www.americanthinker.com/</th>\n      <td>3</td>\n      <td>3</td>\n      <td>100.0</td>\n    </tr>\n    <tr>\n      <th>https://www.dcclothesline.com/</th>\n      <td>3</td>\n      <td>3</td>\n      <td>100.0</td>\n    </tr>\n    <tr>\n      <th>https://www.nowtheendbegins.com/</th>\n      <td>3</td>\n      <td>3</td>\n      <td>100.0</td>\n    </tr>\n    <tr>\n      <th>https://www.organicconsumers.org/</th>\n      <td>3</td>\n      <td>3</td>\n      <td>100.0</td>\n    </tr>\n    <tr>\n      <th>https://www.rushlimbaugh.com/</th>\n      <td>3</td>\n      <td>3</td>\n      <td>100.0</td>\n    </tr>\n    <tr>\n      <th>https://www.sott.net/</th>\n      <td>3</td>\n      <td>3</td>\n      <td>100.0</td>\n    </tr>\n    <tr>\n      <th>https://www.theepochtimes.com/</th>\n      <td>3</td>\n      <td>3</td>\n      <td>100.0</td>\n    </tr>\n    <tr>\n      <th>https://www.worldhealth.net/</th>\n      <td>3</td>\n      <td>3</td>\n      <td>100.0</td>\n    </tr>\n    <tr>\n      <th>JoanneWrightForCongress</th>\n      <td>2</td>\n      <td>2</td>\n      <td>100.0</td>\n    </tr>\n    <tr>\n      <th>Tin woodman</th>\n      <td>2</td>\n      <td>2</td>\n      <td>100.0</td>\n    </tr>\n  </tbody>\n</table>\n</div>"
     },
     "metadata": {},
     "execution_count": 272
    }
   ],
   "source": [
    "cnews['fakes'] = cnews.label.apply(lambda x: 1 if x == 'FAKE' else 0)\n",
    "cnews['number_of_news'] = cnews.source.apply(lambda x: 1)\n",
    "\n",
    "fake_news = cnews[['source', 'number_of_news', 'fakes']]\n",
    "\n",
    "fake_news = fake_news.groupby(by='source').sum()\n",
    "\n",
    "fake_news['fakes_proportion (%)'] = fake_news['fakes']/fake_news['number_of_news'] * 100\n",
    "\n",
    "top_fakers = fake_news[fake_news['fakes_proportion (%)'] > 0.].sort_values(by=['fakes_proportion (%)', 'number_of_news'], ascending=False)\n",
    "\n",
    "top_fakers.head(50)"
   ]
  },
  {
   "source": [
    "We have a very small sample and we don't know how the data has been collected (Maybe only fakes from certain media have been collected because it was known that this type of news circulated a lot for example in this media) so we cannot conclude very reliably, but if we attend to the data shown above, we could conclude that the news that appears in some sources are systematically a fake or at least the proportion of fakes for news they broadcast is very high.\n",
    "\n",
    "But for our COVID news fake detector we must do something relevant for training our model: We are going to join the colums of the new titles with the body of the news. The reason is beacuse later, the algoritm it's going to take every word like an independent feature variable, so the more text we feed it, the better results it will give us."
   ],
   "cell_type": "markdown",
   "metadata": {}
  },
  {
   "cell_type": "code",
   "execution_count": 225,
   "metadata": {},
   "outputs": [],
   "source": [
    "cnews['title_text'] = cnews['title'] + ' ' + cnews['text']"
   ]
  },
  {
   "source": [
    "## Preprocessing\n",
    "\n",
    "The preprocessing step is eliminate all special characters (As wee will see later, all special characters will be analyzed separately and by itself, without context, means nothing or they will form a new word that will constitute a new feature) in the text and put all words in lowercase (Python is case-sensitive)."
   ],
   "cell_type": "markdown",
   "metadata": {}
  },
  {
   "cell_type": "code",
   "execution_count": 227,
   "metadata": {},
   "outputs": [
    {
     "output_type": "execute_result",
     "data": {
      "text/plain": [
       "'covid and the terror of uncertainty there are two worlds in a way never before imagined one of people and jobs of life and experience the other a shadowy world of deceit and terrorism as the month of march 2020 comes to an end and april begins the entire planet is being tested as expected as promised as any idiot might guess political leadership has failed and the organizations intended to coordinate the planetary response to biological threats has shown itself to be politicized weakened or possibly worse on march 30 2020 the berman law group of boca raton florida filed a 20 trillion lawsuit against the government of china for creating and disseminating the covid 19 virus which has well we dont really know one has to remind ones self of our times a few years ago what was termed an arab spring emerged largely manipulated by militarized subsidiaries of google and facebook funded by totalitarian regimes aligned with the us spring as it turned out means something different to the people of the middle east the social reformers of the west delivered head choppers and islamists stolen oil and looted factories and not so much democracy as promised then as so easily predicted those who brought the disease thus offered the cure coalition bombings occupation drone assassination and unending sufferingin ukraine spring meant false flag snipers and downing an airliner followed by a descent into politics more familiar to those who studied the last century and the fascist attempt to rule the world nothing is as it seems nothing seen can be believed nothing read is true nothing taught exists all is flimflammery and bluster buffoonery and mayhem well what does one see living in the united states one sees a lockdown of a nation for one two three or more months what one doesnt see is where exactly 200 million people are how they live where the money comes from to feed them and what the sinking feeling of hopelessness is doing to them for the haves well financed retirees or medical workers not yet infected life may be changed even grim but it will continue quite recently a number of publications began spreading the rumor that 21 million chinese mobile phone users had simply disappeared meaning that they had died of covid 19 and were now in mass graves this type of story is common and such things spring up almost daily the reason isnt simple a sea of absurd lies is manufactured by think tanks in order to drown those gems of embarrassing truth that escaped the google censors or the control of the corporate media here in the us the concern is generated by driving past miles of closed factories stores and restaurants the government plans to send out small checks to cover up to 5 of economic losses of the working poor who were always no more than 3 weeks from homelessness now they cant be thrown out on the street not for awhile anyway law has prevented this but the lost income will never be replaced income that paid insurance health care for children bought food and clothing and that american lifestyle of fast food cable television and continual texting those jobs the restaurants and shops many of the factories no longer exist no bail out can save them in a permanently retracted economy that will never be able to reabsorb millions of workers whose livelihood was governed by economic fakery where two weeks before stores were emptied now the money that financed buying carloads of toilet paper has dwindled away no one talks of this no one reports this no one asks where 200 million americans are how they feed their kids how they spend their days and how fear is playing on their vulnerability there is no social welfare state in america the benefits for retirees medicare and social security are being chipped away by conservative politics health care for veterans and there are many millions of former military whose lives were destroyed while america destroyed the middle east has disappeared unspoken of and unreported veterans are being told they are being removed from health care and can no longer be treated including and especially the totally disabled combat veterans supplies dont exist the pharmacies are out of medications and it didnt start with covid 19 it began with donald trump veterans health care the largest health care system in the world disappeared when no one was looking it is dead and gone it will never be reported no organization will complain to congress because you see if you arent a bank or oil company one of those with their hands out for 6 trillion in free money from the trump regime you dont exist a few paragraphs ago we mentioned the massive lawsuit against china the assumption that china created covid 19 is based on an important research paper written in 2015 that tied a research facility in wuhan to a study on a bat virus that created something capable of infecting the world a disease exactly like covid 19 this is the origin of the blame china ploy just like the blame russia for fake gas attacks in syria or when the kiev regime shot down mh17 all that was needed was a fake court fake evidence and controlled media with the accusation against china all that is needed is for china to be tied in this case for supplying a virus to a dangerous terror group to a global pandemic the terror group as we discovered was the usaid a cia affiliate that used the wuhan virus to create something frightening at the university of north carolina not in wuhan a lawsuit and trial will condemn china in a rigged american court experts so many experts who saw china defeat the disease in weeks while it has run rampant across the us have come to believe that the us was always the origin and that covid 19 had been around for some time inside the us before showing up in china what is strange is that some questions are never asked why so many die in northern italy the best hospitals in the world are there no transportation hubs no ties to wuhan and no biowarfare labs are they being experimented on then we have detroit another anomaly a city of all private homes a city filled with poor a disease spread rapidly through a community that uses no public transportation and that has been housebound by weather for months no one looks for a patient zero or superspreader a term used in studies on bioterrorism the other untold story is the restructuring of americas employment environment no trade unions anymore no contracts no benefits no guarantees the war on the worker that reagan began and bush 43 won behind the smokescreen of 911 and the fake war on terror you see injured workers seldom qualify for benefits and those laid off because of economic slowdowns are denied benefits though processes of fake accusations and legal trickery it gets worse if you are injured on a job lets say a piece of heavy equipment breaks and you are seriously injured not only will you likely never receive wage compensation but you are likely to be denied needed medical care as well medical treatment is often withheld other than enough to make sure you dont die right away until a hearings process is exhausted which can take up to two years during that time a physical injury will often lead to permanent crippling and care when it becomes available eventually is palliative only often opiate pain relievers this is what is meant when it is said that the social welfare safetynet in the us has disappeared this is where 200 million americans without hope now live to fend for themselves and watch television being told day and night to hate china and wait for a check with donald trumps signature that might buy tires for a car that was repossessed'"
      ]
     },
     "metadata": {},
     "execution_count": 227
    }
   ],
   "source": [
    "def preprocessor(text):\n",
    "    \n",
    "    text = re.sub('<[^>]*>', '', text)\n",
    "    text = re.sub(r'[^\\w\\s]','', text)\n",
    "    text = text.lower()\n",
    "    return text\n",
    "    \n",
    "cnews['title_text'] = cnews.title_text.apply(preprocessor)     \n",
    "\n",
    "cnews['title_text'][53] # Let's going to see how it goes:"
   ]
  },
  {
   "source": [
    "Now it's time stem the words in order to save feature variables for the analysis. I always have used the Porter-stemmer for this task, but this time I'm going to try the Snowball-stemmer"
   ],
   "cell_type": "markdown",
   "metadata": {}
  },
  {
   "cell_type": "code",
   "execution_count": 229,
   "metadata": {},
   "outputs": [],
   "source": [
    "snowst = SnowballStemmer(language='english') \n",
    "\n",
    "def stemmer(news):\n",
    "    return [snowst.stem(word) for word in news.split()]\n",
    "\n",
    "tfidf = TfidfVectorizer(strip_accents=None, lowercase=False, preprocessor=None, tokenizer=stemmer,use_idf=True, norm='l2', smooth_idf=True)\n",
    "\n",
    "X = tfidf.fit_transform(cnews['title_text'])\n",
    "\n",
    "y = cnews.label.values"
   ]
  },
  {
   "cell_type": "code",
   "execution_count": 231,
   "metadata": {},
   "outputs": [
    {
     "output_type": "execute_result",
     "data": {
      "text/plain": [
       "<1159x25969 sparse matrix of type '<class 'numpy.float64'>'\n",
       "\twith 282630 stored elements in Compressed Sparse Row format>"
      ]
     },
     "metadata": {},
     "execution_count": 231
    }
   ],
   "source": [
    "X"
   ]
  },
  {
   "cell_type": "code",
   "execution_count": 233,
   "metadata": {},
   "outputs": [
    {
     "output_type": "execute_result",
     "data": {
      "text/plain": [
       "array(['FAKE', 'FAKE', 'FAKE', ..., 'TRUE', 'TRUE', 'TRUE'], dtype=object)"
      ]
     },
     "metadata": {},
     "execution_count": 233
    }
   ],
   "source": [
    "y"
   ]
  },
  {
   "cell_type": "code",
   "execution_count": 271,
   "metadata": {},
   "outputs": [
    {
     "output_type": "stream",
     "name": "stdout",
     "text": [
      " X_train shape =  (811, 25969) \n X_test shape =  (348, 25969) \n y_train shape =  (811,) \n y_test shape =  (348,)\n"
     ]
    }
   ],
   "source": [
    "X_train, X_test, y_train, y_test = train_test_split(X, y, test_size=0.3, shuffle=True)\n",
    "\n",
    "print(' X_train shape = ', X_train.shape, '\\n', 'X_test shape = ', X_test.shape, '\\n', 'y_train shape = ', y_train.shape, '\\n', 'y_test shape = ', y_test.shape)"
   ]
  },
  {
   "source": [
    "As we see above, we have created a sparse matrix where every stimmed-tokenized word is feature variable(The shape is 1259 instances for 25969 columns that are the tokenized-stimmed words) which values are 0 if in the news doesn't appear the word and 1 if it is (Sparse matrix) for the X and the y that are the column with the label (True or Fake) that we are going to train our algortim. Then we have divided the X and the y in train set (811 instances) and test set (348 instances). Now let's going to create our models."
   ],
   "cell_type": "markdown",
   "metadata": {}
  },
  {
   "source": [
    "# MODEL SELECTION\n",
    "\n",
    "Now we are going to create some models and see the scores produced after the training and will select one wichthe best performance gives us."
   ],
   "cell_type": "markdown",
   "metadata": {}
  },
  {
   "source": [
    "## LOGISTIC REGRESSION CROSS VALIDATION"
   ],
   "cell_type": "markdown",
   "metadata": {}
  },
  {
   "cell_type": "code",
   "execution_count": 269,
   "metadata": {},
   "outputs": [
    {
     "output_type": "stream",
     "name": "stderr",
     "text": [
      "[Parallel(n_jobs=-1)]: Using backend LokyBackend with 4 concurrent workers.\n",
      "[Parallel(n_jobs=-1)]: Done   2 out of   5 | elapsed:   17.7s remaining:   26.5s\n",
      "[Parallel(n_jobs=-1)]: Done   5 out of   5 | elapsed:   23.7s finished\n"
     ]
    },
    {
     "output_type": "execute_result",
     "data": {
      "text/plain": [
       "0.9712643678160919"
      ]
     },
     "metadata": {},
     "execution_count": 269
    }
   ],
   "source": [
    "lrcv = LogisticRegressionCV(cv=5, n_jobs=-1, scoring='accuracy', solver='lbfgs', penalty='l2', verbose=3)\n",
    "\n",
    "lrcv.fit(X_train, y_train)\n",
    "\n",
    "lrcv.score(X_test, y_test)"
   ]
  },
  {
   "source": [
    "## RANDOM FOREST CLASSIFIER"
   ],
   "cell_type": "markdown",
   "metadata": {}
  },
  {
   "cell_type": "code",
   "execution_count": 254,
   "metadata": {},
   "outputs": [
    {
     "output_type": "stream",
     "name": "stderr",
     "text": [
      "[Parallel(n_jobs=-1)]: Using backend ThreadingBackend with 4 concurrent workers.\n",
      "[Parallel(n_jobs=-1)]: Done  24 tasks      | elapsed:    0.1s\n",
      "building tree 1 of 100building tree 2 of 100\n",
      "\n",
      "building tree 3 of 100\n",
      "building tree 4 of 100\n",
      "building tree 5 of 100\n",
      "building tree 6 of 100\n",
      "building tree 7 of 100\n",
      "building tree 8 of 100\n",
      "building tree 9 of 100building tree 10 of 100\n",
      "\n",
      "building tree 11 of 100building tree 12 of 100\n",
      "\n",
      "building tree 13 of 100building tree 14 of 100\n",
      "\n",
      "building tree 15 of 100building tree 16 of 100building tree 17 of 100building tree 18 of 100\n",
      "\n",
      "\n",
      "\n",
      "building tree 19 of 100building tree 20 of 100building tree 21 of 100\n",
      "\n",
      "\n",
      "building tree 22 of 100\n",
      "building tree 23 of 100\n",
      "building tree 24 of 100\n",
      "building tree 25 of 100building tree 26 of 100\n",
      "\n",
      "building tree 27 of 100\n",
      "building tree 28 of 100\n",
      "building tree 29 of 100\n",
      "building tree 30 of 100\n",
      "building tree 31 of 100building tree 32 of 100\n",
      "\n",
      "building tree 33 of 100\n",
      "building tree 34 of 100\n",
      "building tree 35 of 100\n",
      "building tree 36 of 100\n",
      "building tree 37 of 100\n",
      "building tree 38 of 100\n",
      "building tree 39 of 100building tree 40 of 100\n",
      "\n",
      "building tree 41 of 100\n",
      "building tree 42 of 100\n",
      "building tree 43 of 100\n",
      "building tree 44 of 100\n",
      "building tree 45 of 100\n",
      "building tree 46 of 100\n",
      "building tree 47 of 100\n",
      "building tree 48 of 100building tree 49 of 100\n",
      "\n",
      "building tree 50 of 100\n",
      "building tree 51 of 100\n",
      "building tree 52 of 100building tree 53 of 100\n",
      "\n",
      "building tree 54 of 100\n",
      "building tree 55 of 100building tree 56 of 100\n",
      "\n",
      "building tree 57 of 100\n",
      "building tree 58 of 100\n",
      "building tree 59 of 100\n",
      "building tree 60 of 100\n",
      "building tree 61 of 100\n",
      "building tree 62 of 100\n",
      "building tree 63 of 100building tree 64 of 100\n",
      "\n",
      "building tree 65 of 100\n",
      "building tree 66 of 100building tree 67 of 100\n",
      "\n",
      "building tree 68 of 100\n",
      "building tree 69 of 100\n",
      "building tree 70 of 100\n",
      "building tree 71 of 100\n",
      "building tree 72 of 100\n",
      "building tree 73 of 100\n",
      "building tree 74 of 100\n",
      "building tree 75 of 100building tree 76 of 100\n",
      "\n",
      "building tree 77 of 100\n",
      "building tree 78 of 100\n",
      "building tree 79 of 100\n",
      "building tree 80 of 100\n",
      "building tree 81 of 100building tree 82 of 100\n",
      "\n",
      "building tree 83 of 100\n",
      "building tree 84 of 100\n",
      "building tree 85 of 100\n",
      "building tree 86 of 100\n",
      "building tree 87 of 100building tree 88 of 100\n",
      "\n",
      "building tree 89 of 100\n",
      "building tree 90 of 100\n",
      "building tree 91 of 100\n",
      "building tree 92 of 100\n",
      "building tree 93 of 100\n",
      "building tree 94 of 100\n",
      "building tree 95 of 100\n",
      "building tree 96 of 100\n",
      "building tree 97 of 100\n",
      "building tree 98 of 100\n",
      "building tree 99 of 100\n",
      "building tree 100 of 100\n",
      "[Parallel(n_jobs=-1)]: Done 100 out of 100 | elapsed:    0.5s finished\n",
      "[Parallel(n_jobs=4)]: Using backend ThreadingBackend with 4 concurrent workers.\n",
      "[Parallel(n_jobs=4)]: Done  24 tasks      | elapsed:    0.0s\n",
      "[Parallel(n_jobs=4)]: Done 100 out of 100 | elapsed:    0.0s finished\n"
     ]
    },
    {
     "output_type": "execute_result",
     "data": {
      "text/plain": [
       "0.9310344827586207"
      ]
     },
     "metadata": {},
     "execution_count": 254
    }
   ],
   "source": [
    "rf = RandomForestClassifier(bootstrap=True, verbose=3, n_jobs=-1, oob_score=True, criterion='entropy')\n",
    "\n",
    "rf.fit(X_train, y_train)\n",
    "\n",
    "rf.score(X_test, y_test)"
   ]
  },
  {
   "source": [
    "## SUPPORT VECTOR CLASSIFIER"
   ],
   "cell_type": "markdown",
   "metadata": {}
  },
  {
   "cell_type": "code",
   "execution_count": 268,
   "metadata": {},
   "outputs": [
    {
     "output_type": "stream",
     "name": "stdout",
     "text": [
      "[LibSVM]"
     ]
    },
    {
     "output_type": "execute_result",
     "data": {
      "text/plain": [
       "0.9540229885057471"
      ]
     },
     "metadata": {},
     "execution_count": 268
    }
   ],
   "source": [
    "svc = SVC(kernel='rbf', verbose=3) # We are going to select a 'rbf' kernel, because if we use a 'linnear' kernel, would pratically the same algoritm that the first, logistic regression cross validation and therefore will gives us very similar score.\n",
    "\n",
    "svc.fit(X_train, y_train)\n",
    "\n",
    "svc.score(X_test, y_test)"
   ]
  }
 ]
}