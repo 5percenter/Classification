{
 "metadata": {
  "language_info": {
   "codemirror_mode": {
    "name": "ipython",
    "version": 3
   },
   "file_extension": ".py",
   "mimetype": "text/x-python",
   "name": "python",
   "nbconvert_exporter": "python",
   "pygments_lexer": "ipython3",
   "version": "3.8.4-final"
  },
  "orig_nbformat": 2,
  "kernelspec": {
   "name": "python3",
   "display_name": "Python 3",
   "language": "python"
  }
 },
 "nbformat": 4,
 "nbformat_minor": 2,
 "cells": [
  {
   "source": [
    "# MNIST Classification with Sklearn\n",
    "\n",
    "Importing the libraries and the datasets"
   ],
   "cell_type": "markdown",
   "metadata": {}
  },
  {
   "cell_type": "code",
   "execution_count": 48,
   "metadata": {},
   "outputs": [],
   "source": [
    "import pandas as pd \n",
    "import numpy as np\n",
    "import matplotlib as plt\n",
    "import seaborn as sns\n",
    "from sklearn.datasets import fetch_openml\n",
    "from sklearn.linear_model import SGDClassifier"
   ]
  },
  {
   "source": [
    "We are going to import the dataset, the classical MNIST set with handwritten digits between 0 and 9, from the sklearn datasets libraries. Also we are going to call DESCR method to see info about the dataset "
   ],
   "cell_type": "markdown",
   "metadata": {}
  },
  {
   "cell_type": "code",
   "execution_count": 43,
   "metadata": {},
   "outputs": [
    {
     "output_type": "execute_result",
     "data": {
      "text/plain": [
       "\"**Author**: Yann LeCun, Corinna Cortes, Christopher J.C. Burges  \\n**Source**: [MNIST Website](http://yann.lecun.com/exdb/mnist/) - Date unknown  \\n**Please cite**:  \\n\\nThe MNIST database of handwritten digits with 784 features, raw data available at: http://yann.lecun.com/exdb/mnist/. It can be split in a training set of the first 60,000 examples, and a test set of 10,000 examples  \\n\\nIt is a subset of a larger set available from NIST. The digits have been size-normalized and centered in a fixed-size image. It is a good database for people who want to try learning techniques and pattern recognition methods on real-world data while spending minimal efforts on preprocessing and formatting. The original black and white (bilevel) images from NIST were size normalized to fit in a 20x20 pixel box while preserving their aspect ratio. The resulting images contain grey levels as a result of the anti-aliasing technique used by the normalization algorithm. the images were centered in a 28x28 image by computing the center of mass of the pixels, and translating the image so as to position this point at the center of the 28x28 field.  \\n\\nWith some classification methods (particularly template-based methods, such as SVM and K-nearest neighbors), the error rate improves when the digits are centered by bounding box rather than center of mass. If you do this kind of pre-processing, you should report it in your publications. The MNIST database was constructed from NIST's NIST originally designated SD-3 as their training set and SD-1 as their test set. However, SD-3 is much cleaner and easier to recognize than SD-1. The reason for this can be found on the fact that SD-3 was collected among Census Bureau employees, while SD-1 was collected among high-school students. Drawing sensible conclusions from learning experiments requires that the result be independent of the choice of training set and test among the complete set of samples. Therefore it was necessary to build a new database by mixing NIST's datasets.  \\n\\nThe MNIST training set is composed of 30,000 patterns from SD-3 and 30,000 patterns from SD-1. Our test set was composed of 5,000 patterns from SD-3 and 5,000 patterns from SD-1. The 60,000 pattern training set contained examples from approximately 250 writers. We made sure that the sets of writers of the training set and test set were disjoint. SD-1 contains 58,527 digit images written by 500 different writers. In contrast to SD-3, where blocks of data from each writer appeared in sequence, the data in SD-1 is scrambled. Writer identities for SD-1 is available and we used this information to unscramble the writers. We then split SD-1 in two: characters written by the first 250 writers went into our new training set. The remaining 250 writers were placed in our test set. Thus we had two sets with nearly 30,000 examples each. The new training set was completed with enough examples from SD-3, starting at pattern # 0, to make a full set of 60,000 training patterns. Similarly, the new test set was completed with SD-3 examples starting at pattern # 35,000 to make a full set with 60,000 test patterns. Only a subset of 10,000 test images (5,000 from SD-1 and 5,000 from SD-3) is available on this site. The full 60,000 sample training set is available.\\n\\nDownloaded from openml.org.\""
      ]
     },
     "metadata": {},
     "execution_count": 43
    }
   ],
   "source": [
    "mnist = fetch_openml('mnist_784', version = 1)\n",
    "\n",
    "mnist.DESCR"
   ]
  },
  {
   "source": [
    "Now we are going to define the X (features) and the y (target), and see with the shape method the number of featured (predictor variables) and the number os instances that we have for doing the train and the test."
   ],
   "cell_type": "markdown",
   "metadata": {}
  },
  {
   "cell_type": "code",
   "execution_count": 44,
   "metadata": {},
   "outputs": [
    {
     "output_type": "stream",
     "name": "stdout",
     "text": [
      " X -- Instances, columns =  (70000, 784) \n y -- Columns =  (70000,)\n"
     ]
    }
   ],
   "source": [
    "X, y = mnist.data, mnist.target\n",
    "\n",
    "print(' X -- Instances, columns = ', X.shape, '\\n', 'y -- Columns = ', y.shape)"
   ]
  },
  {
   "source": [
    "The features represent 784 pixels, which are binary values depending on whether they are filled (1) or empty (0), so they are numeric (float)."
   ],
   "cell_type": "markdown",
   "metadata": {}
  },
  {
   "cell_type": "code",
   "execution_count": 45,
   "metadata": {},
   "outputs": [
    {
     "output_type": "execute_result",
     "data": {
      "text/plain": [
       "dtype('float64')"
      ]
     },
     "metadata": {},
     "execution_count": 45
    }
   ],
   "source": [
    "X.dtype"
   ]
  },
  {
   "source": [
    "However the target variable is not a numerical variable, which is the type that most sklearn algorithms need to perform so we must transform the y in it."
   ],
   "cell_type": "markdown",
   "metadata": {}
  },
  {
   "cell_type": "code",
   "execution_count": 46,
   "metadata": {},
   "outputs": [
    {
     "output_type": "stream",
     "name": "stdout",
     "text": [
      "y before transformation -->  object\ny after transformation -->  float64\n"
     ]
    }
   ],
   "source": [
    "print('y before transformation --> ', y.dtype)\n",
    "\n",
    "y = y.astype('float')\n",
    "\n",
    "print('y after transformation --> ', y.dtype)"
   ]
  },
  {
   "source": [
    "Now we are going to divide the instance in training and test set:"
   ],
   "cell_type": "markdown",
   "metadata": {}
  },
  {
   "cell_type": "code",
   "execution_count": 47,
   "metadata": {},
   "outputs": [],
   "source": [
    "X_train, X_test, y_train, y_test = X[0:60000], X[60000:], y[:60000], y[60000:] # 60000 instances for traininig and the rest, 10000 for testing."
   ]
  },
  {
   "source": [
    "## Binary classifier\n",
    "\n",
    "First we are going to train a binary classifier for detecting if the target number is a 7 or not, so we are going to change the float values of the y for booleans ('True' if y is equel 7, 'False' if is othe digit). For this purpouse we are going to choose a stochastic gradient descent classifier, because, if well perform a little bit worst that a regular gradient descent algorithm it suits better with big datasets like MNIST:"
   ],
   "cell_type": "markdown",
   "metadata": {}
  },
  {
   "cell_type": "code",
   "execution_count": 52,
   "metadata": {},
   "outputs": [],
   "source": [
    "y_train7 = (y_train == 7) \n",
    "y_test7 = (y_test == 7)"
   ]
  },
  {
   "cell_type": "code",
   "execution_count": 53,
   "metadata": {},
   "outputs": [
    {
     "output_type": "execute_result",
     "data": {
      "text/plain": [
       "SGDClassifier()"
      ]
     },
     "metadata": {},
     "execution_count": 53
    }
   ],
   "source": [
    "sgd_clf = SGDClassifier()\n",
    "\n",
    "sgd_clf.fit(X_train, y_train7)"
   ]
  },
  {
   "source": [
    "Now that we have our binary classifier trained, lets see how perform launching the 'score' method:"
   ],
   "cell_type": "markdown",
   "metadata": {}
  },
  {
   "cell_type": "code",
   "execution_count": 54,
   "metadata": {},
   "outputs": [
    {
     "output_type": "execute_result",
     "data": {
      "text/plain": [
       "0.9626"
      ]
     },
     "metadata": {},
     "execution_count": 54
    }
   ],
   "source": [
    "sgd_clf.score(X_test, y_test7)"
   ]
  },
  {
   "cell_type": "code",
   "execution_count": null,
   "metadata": {},
   "outputs": [],
   "source": []
  }
 ]
}